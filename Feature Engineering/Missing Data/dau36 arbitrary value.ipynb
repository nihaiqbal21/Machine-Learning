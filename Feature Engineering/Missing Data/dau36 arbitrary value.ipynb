{
 "cells": [
  {
   "cell_type": "code",
   "execution_count": 1,
   "id": "92821d86",
   "metadata": {},
   "outputs": [],
   "source": [
    "import pandas as pd\n",
    "import numpy as np\n",
    "import matplotlib.pyplot as plt\n",
    "\n",
    "from sklearn.model_selection import train_test_split\n",
    "from sklearn.impute import SimpleImputer\n",
    "from sklearn.compose import ColumnTransformer"
   ]
  },
  {
   "cell_type": "code",
   "execution_count": 2,
   "id": "f4f01355",
   "metadata": {},
   "outputs": [],
   "source": [
    "df = pd.read_csv('titanic_toy.csv')"
   ]
  },
  {
   "cell_type": "code",
   "execution_count": 3,
   "id": "22ff39b9",
   "metadata": {},
   "outputs": [
    {
     "data": {
      "text/html": [
       "<div>\n",
       "<style scoped>\n",
       "    .dataframe tbody tr th:only-of-type {\n",
       "        vertical-align: middle;\n",
       "    }\n",
       "\n",
       "    .dataframe tbody tr th {\n",
       "        vertical-align: top;\n",
       "    }\n",
       "\n",
       "    .dataframe thead th {\n",
       "        text-align: right;\n",
       "    }\n",
       "</style>\n",
       "<table border=\"1\" class=\"dataframe\">\n",
       "  <thead>\n",
       "    <tr style=\"text-align: right;\">\n",
       "      <th></th>\n",
       "      <th>Age</th>\n",
       "      <th>Fare</th>\n",
       "      <th>Family</th>\n",
       "      <th>Survived</th>\n",
       "    </tr>\n",
       "  </thead>\n",
       "  <tbody>\n",
       "    <tr>\n",
       "      <th>0</th>\n",
       "      <td>22.0</td>\n",
       "      <td>7.2500</td>\n",
       "      <td>1</td>\n",
       "      <td>0</td>\n",
       "    </tr>\n",
       "    <tr>\n",
       "      <th>1</th>\n",
       "      <td>38.0</td>\n",
       "      <td>71.2833</td>\n",
       "      <td>1</td>\n",
       "      <td>1</td>\n",
       "    </tr>\n",
       "    <tr>\n",
       "      <th>2</th>\n",
       "      <td>26.0</td>\n",
       "      <td>7.9250</td>\n",
       "      <td>0</td>\n",
       "      <td>1</td>\n",
       "    </tr>\n",
       "    <tr>\n",
       "      <th>3</th>\n",
       "      <td>35.0</td>\n",
       "      <td>53.1000</td>\n",
       "      <td>1</td>\n",
       "      <td>1</td>\n",
       "    </tr>\n",
       "    <tr>\n",
       "      <th>4</th>\n",
       "      <td>35.0</td>\n",
       "      <td>8.0500</td>\n",
       "      <td>0</td>\n",
       "      <td>0</td>\n",
       "    </tr>\n",
       "  </tbody>\n",
       "</table>\n",
       "</div>"
      ],
      "text/plain": [
       "    Age     Fare  Family  Survived\n",
       "0  22.0   7.2500       1         0\n",
       "1  38.0  71.2833       1         1\n",
       "2  26.0   7.9250       0         1\n",
       "3  35.0  53.1000       1         1\n",
       "4  35.0   8.0500       0         0"
      ]
     },
     "execution_count": 3,
     "metadata": {},
     "output_type": "execute_result"
    }
   ],
   "source": [
    "df.head()"
   ]
  },
  {
   "cell_type": "code",
   "execution_count": 4,
   "id": "ed9b1a2d",
   "metadata": {},
   "outputs": [
    {
     "name": "stdout",
     "output_type": "stream",
     "text": [
      "<class 'pandas.core.frame.DataFrame'>\n",
      "RangeIndex: 891 entries, 0 to 890\n",
      "Data columns (total 4 columns):\n",
      " #   Column    Non-Null Count  Dtype  \n",
      "---  ------    --------------  -----  \n",
      " 0   Age       714 non-null    float64\n",
      " 1   Fare      846 non-null    float64\n",
      " 2   Family    891 non-null    int64  \n",
      " 3   Survived  891 non-null    int64  \n",
      "dtypes: float64(2), int64(2)\n",
      "memory usage: 28.0 KB\n"
     ]
    }
   ],
   "source": [
    "df.info()"
   ]
  },
  {
   "cell_type": "code",
   "execution_count": 5,
   "id": "e58e27b0",
   "metadata": {},
   "outputs": [
    {
     "data": {
      "text/plain": [
       "Age         0.198653\n",
       "Fare        0.050505\n",
       "Family      0.000000\n",
       "Survived    0.000000\n",
       "dtype: float64"
      ]
     },
     "execution_count": 5,
     "metadata": {},
     "output_type": "execute_result"
    }
   ],
   "source": [
    "df.isnull().mean()"
   ]
  },
  {
   "cell_type": "code",
   "execution_count": 6,
   "id": "015db5cf",
   "metadata": {},
   "outputs": [],
   "source": [
    "X = df.drop(columns=['Survived'])\n",
    "y = df['Survived']"
   ]
  },
  {
   "cell_type": "code",
   "execution_count": 7,
   "id": "caca0595",
   "metadata": {},
   "outputs": [],
   "source": [
    "X_train,X_test,y_train,y_test = train_test_split(X,y,test_size=0.2,random_state=2)"
   ]
  },
  {
   "cell_type": "code",
   "execution_count": 8,
   "id": "0baebff9",
   "metadata": {},
   "outputs": [
    {
     "data": {
      "text/plain": [
       "((712, 3), (179, 3))"
      ]
     },
     "execution_count": 8,
     "metadata": {},
     "output_type": "execute_result"
    }
   ],
   "source": [
    "X_train.shape, X_test.shape"
   ]
  },
  {
   "cell_type": "code",
   "execution_count": 9,
   "id": "de743237",
   "metadata": {},
   "outputs": [
    {
     "data": {
      "text/plain": [
       "Age       0.207865\n",
       "Fare      0.050562\n",
       "Family    0.000000\n",
       "dtype: float64"
      ]
     },
     "execution_count": 9,
     "metadata": {},
     "output_type": "execute_result"
    }
   ],
   "source": [
    "X_train.isnull().mean()"
   ]
  },
  {
   "cell_type": "code",
   "execution_count": 12,
   "id": "f2c334b9",
   "metadata": {},
   "outputs": [],
   "source": [
    "X_train['Age_99'] = X_train['Age'].fillna(99)\n",
    "X_train['Age_minus1'] = X_train['Age'].fillna(-1)\n",
    "\n",
    "X_train['Fare_999'] = X_train['Fare'].fillna(999)\n",
    "X_train['Fare_minus1'] = X_train['Fare'].fillna(-1)"
   ]
  },
  {
   "cell_type": "code",
   "execution_count": 13,
   "id": "f5d44f82",
   "metadata": {},
   "outputs": [
    {
     "data": {
      "text/html": [
       "<div>\n",
       "<style scoped>\n",
       "    .dataframe tbody tr th:only-of-type {\n",
       "        vertical-align: middle;\n",
       "    }\n",
       "\n",
       "    .dataframe tbody tr th {\n",
       "        vertical-align: top;\n",
       "    }\n",
       "\n",
       "    .dataframe thead th {\n",
       "        text-align: right;\n",
       "    }\n",
       "</style>\n",
       "<table border=\"1\" class=\"dataframe\">\n",
       "  <thead>\n",
       "    <tr style=\"text-align: right;\">\n",
       "      <th></th>\n",
       "      <th>Age</th>\n",
       "      <th>Fare</th>\n",
       "      <th>Family</th>\n",
       "      <th>Age_median</th>\n",
       "      <th>Age_mean</th>\n",
       "      <th>Fare_median</th>\n",
       "      <th>Fare_mean</th>\n",
       "      <th>Age_99</th>\n",
       "      <th>Age_minus1</th>\n",
       "      <th>Fare_999</th>\n",
       "      <th>Fare_minus1</th>\n",
       "    </tr>\n",
       "  </thead>\n",
       "  <tbody>\n",
       "    <tr>\n",
       "      <th>189</th>\n",
       "      <td>36.0</td>\n",
       "      <td>7.8958</td>\n",
       "      <td>0</td>\n",
       "      <td>36.0</td>\n",
       "      <td>36.0</td>\n",
       "      <td>7.8958</td>\n",
       "      <td>7.8958</td>\n",
       "      <td>36.0</td>\n",
       "      <td>36.0</td>\n",
       "      <td>7.8958</td>\n",
       "      <td>7.8958</td>\n",
       "    </tr>\n",
       "    <tr>\n",
       "      <th>585</th>\n",
       "      <td>18.0</td>\n",
       "      <td>79.6500</td>\n",
       "      <td>2</td>\n",
       "      <td>18.0</td>\n",
       "      <td>18.0</td>\n",
       "      <td>79.6500</td>\n",
       "      <td>79.6500</td>\n",
       "      <td>18.0</td>\n",
       "      <td>18.0</td>\n",
       "      <td>79.6500</td>\n",
       "      <td>79.6500</td>\n",
       "    </tr>\n",
       "    <tr>\n",
       "      <th>144</th>\n",
       "      <td>18.0</td>\n",
       "      <td>11.5000</td>\n",
       "      <td>0</td>\n",
       "      <td>18.0</td>\n",
       "      <td>18.0</td>\n",
       "      <td>11.5000</td>\n",
       "      <td>11.5000</td>\n",
       "      <td>18.0</td>\n",
       "      <td>18.0</td>\n",
       "      <td>11.5000</td>\n",
       "      <td>11.5000</td>\n",
       "    </tr>\n",
       "    <tr>\n",
       "      <th>379</th>\n",
       "      <td>19.0</td>\n",
       "      <td>7.7750</td>\n",
       "      <td>0</td>\n",
       "      <td>19.0</td>\n",
       "      <td>19.0</td>\n",
       "      <td>7.7750</td>\n",
       "      <td>7.7750</td>\n",
       "      <td>19.0</td>\n",
       "      <td>19.0</td>\n",
       "      <td>7.7750</td>\n",
       "      <td>7.7750</td>\n",
       "    </tr>\n",
       "    <tr>\n",
       "      <th>393</th>\n",
       "      <td>23.0</td>\n",
       "      <td>113.2750</td>\n",
       "      <td>1</td>\n",
       "      <td>23.0</td>\n",
       "      <td>23.0</td>\n",
       "      <td>113.2750</td>\n",
       "      <td>113.2750</td>\n",
       "      <td>23.0</td>\n",
       "      <td>23.0</td>\n",
       "      <td>113.2750</td>\n",
       "      <td>113.2750</td>\n",
       "    </tr>\n",
       "  </tbody>\n",
       "</table>\n",
       "</div>"
      ],
      "text/plain": [
       "      Age      Fare  Family  Age_median  Age_mean  Fare_median  Fare_mean  \\\n",
       "189  36.0    7.8958       0        36.0      36.0       7.8958     7.8958   \n",
       "585  18.0   79.6500       2        18.0      18.0      79.6500    79.6500   \n",
       "144  18.0   11.5000       0        18.0      18.0      11.5000    11.5000   \n",
       "379  19.0    7.7750       0        19.0      19.0       7.7750     7.7750   \n",
       "393  23.0  113.2750       1        23.0      23.0     113.2750   113.2750   \n",
       "\n",
       "     Age_99  Age_minus1  Fare_999  Fare_minus1  \n",
       "189    36.0        36.0    7.8958       7.8958  \n",
       "585    18.0        18.0   79.6500      79.6500  \n",
       "144    18.0        18.0   11.5000      11.5000  \n",
       "379    19.0        19.0    7.7750       7.7750  \n",
       "393    23.0        23.0  113.2750     113.2750  "
      ]
     },
     "execution_count": 13,
     "metadata": {},
     "output_type": "execute_result"
    }
   ],
   "source": [
    "X_train.sample(5)"
   ]
  },
  {
   "cell_type": "code",
   "execution_count": 14,
   "id": "3e4fcf5d",
   "metadata": {},
   "outputs": [
    {
     "name": "stdout",
     "output_type": "stream",
     "text": [
      "Original Age variance:  204.3495133904614\n",
      "Age 99 variance:  951.7275570187172\n",
      "Age minus1 variance:  318.0896202624484\n",
      "Original Fare variance:  2448.197913706318\n",
      "Fare 999 variance:  47219.20265217623\n",
      "Fare minus1variance:  2378.5676784883503\n"
     ]
    }
   ],
   "source": [
    "print(\"Original Age variance: \", X_train['Age'].var())\n",
    "print(\"Age 99 variance: \", X_train['Age_99'].var())\n",
    "print(\"Age minus1 variance: \", X_train['Age_minus1'].var())\n",
    "\n",
    "print(\"Original Fare variance: \", X_train['Fare'].var())\n",
    "print(\"Fare 999 variance: \", X_train['Fare_999'].var())\n",
    "print(\"Fare minus1variance: \", X_train['Fare_minus1'].var())\n",
    "\n"
   ]
  },
  {
   "cell_type": "code",
   "execution_count": 15,
   "id": "1db57b0f",
   "metadata": {},
   "outputs": [
    {
     "data": {
      "text/plain": [
       "<matplotlib.legend.Legend at 0x1cdfb4d2d60>"
      ]
     },
     "execution_count": 15,
     "metadata": {},
     "output_type": "execute_result"
    },
    {
     "data": {
      "image/png": "[encoded data removed]",
      "text/plain": [
       "<Figure size 640x480 with 1 Axes>"
      ]
     },
     "metadata": {},
     "output_type": "display_data"
    }
   ],
   "source": [
    "fig= plt.figure()\n",
    "ax = fig.add_subplot(111)\n",
    "\n",
    "#original variance distribution data\n",
    "X_train['Age'].plot(kind='kde', ax=ax)\n",
    "\n",
    "# variable imputed with the median\n",
    "X_train['Age_99'].plot(kind='kde', ax=ax, color='red')\n",
    "\n",
    "# variable imputed with the mean\n",
    "X_train['Age_minus1'].plot(kind='kde', ax=ax, color='lightgreen')\n",
    "\n",
    "\n",
    "#Add legends\n",
    "lines, labels= ax.get_legend_handles_labels()\n",
    "ax.legend(lines, labels, loc='best')"
   ]
  },
  {
   "cell_type": "code",
   "execution_count": 16,
   "id": "869671fd",
   "metadata": {},
   "outputs": [
    {
     "data": {
      "text/plain": [
       "<matplotlib.legend.Legend at 0x1cdfbc85dc0>"
      ]
     },
     "execution_count": 16,
     "metadata": {},
     "output_type": "execute_result"
    },
    {
     "data": {
      "image/png": "[encoded data removed]",
      "text/plain": [
       "<Figure size 640x480 with 1 Axes>"
      ]
     },
     "metadata": {},
     "output_type": "display_data"
    }
   ],
   "source": [
    "fig= plt.figure()\n",
    "ax = fig.add_subplot(111)\n",
    "\n",
    "#original variance distribution data\n",
    "X_train['Fare'].plot(kind='kde', ax=ax)\n",
    "\n",
    "# variable imputed with the median\n",
    "X_train['Fare_999'].plot(kind='kde', ax=ax, color='red')\n",
    "\n",
    "# variable imputed with the mean\n",
    "X_train['Fare_minus1'].plot(kind='kde', ax=ax, color='lightgreen')\n",
    "\n",
    "\n",
    "#Add legends\n",
    "lines, labels= ax.get_legend_handles_labels()\n",
    "ax.legend(lines, labels, loc='best')"
   ]
  },
  {
   "cell_type": "code",
   "execution_count": 17,
   "id": "31a07efd",
   "metadata": {},
   "outputs": [
    {
     "data": {
      "text/html": [
       "<div>\n",
       "<style scoped>\n",
       "    .dataframe tbody tr th:only-of-type {\n",
       "        vertical-align: middle;\n",
       "    }\n",
       "\n",
       "    .dataframe tbody tr th {\n",
       "        vertical-align: top;\n",
       "    }\n",
       "\n",
       "    .dataframe thead th {\n",
       "        text-align: right;\n",
       "    }\n",
       "</style>\n",
       "<table border=\"1\" class=\"dataframe\">\n",
       "  <thead>\n",
       "    <tr style=\"text-align: right;\">\n",
       "      <th></th>\n",
       "      <th>Age</th>\n",
       "      <th>Fare</th>\n",
       "      <th>Family</th>\n",
       "      <th>Age_median</th>\n",
       "      <th>Age_mean</th>\n",
       "      <th>Fare_median</th>\n",
       "      <th>Fare_mean</th>\n",
       "      <th>Age_99</th>\n",
       "      <th>Age_minus1</th>\n",
       "      <th>Fare_999</th>\n",
       "      <th>Fare_minus1</th>\n",
       "    </tr>\n",
       "  </thead>\n",
       "  <tbody>\n",
       "    <tr>\n",
       "      <th>Age</th>\n",
       "      <td>204.349513</td>\n",
       "      <td>70.719262</td>\n",
       "      <td>-6.498901</td>\n",
       "      <td>204.349513</td>\n",
       "      <td>204.349513</td>\n",
       "      <td>162.793430</td>\n",
       "      <td>63.321188</td>\n",
       "      <td>204.349513</td>\n",
       "      <td>204.349513</td>\n",
       "      <td>162.793430</td>\n",
       "      <td>63.321188</td>\n",
       "    </tr>\n",
       "    <tr>\n",
       "      <th>Fare</th>\n",
       "      <td>70.719262</td>\n",
       "      <td>2448.197914</td>\n",
       "      <td>17.258917</td>\n",
       "      <td>-101.671097</td>\n",
       "      <td>125.558364</td>\n",
       "      <td>2448.197914</td>\n",
       "      <td>2448.197914</td>\n",
       "      <td>-101.671097</td>\n",
       "      <td>125.558364</td>\n",
       "      <td>2448.197914</td>\n",
       "      <td>2448.197914</td>\n",
       "    </tr>\n",
       "    <tr>\n",
       "      <th>Family</th>\n",
       "      <td>-6.498901</td>\n",
       "      <td>17.258917</td>\n",
       "      <td>2.735252</td>\n",
       "      <td>-7.387287</td>\n",
       "      <td>-4.149246</td>\n",
       "      <td>11.528625</td>\n",
       "      <td>16.553989</td>\n",
       "      <td>-7.387287</td>\n",
       "      <td>-4.149246</td>\n",
       "      <td>11.528625</td>\n",
       "      <td>16.553989</td>\n",
       "    </tr>\n",
       "    <tr>\n",
       "      <th>Age_median</th>\n",
       "      <td>204.349513</td>\n",
       "      <td>-101.671097</td>\n",
       "      <td>-7.387287</td>\n",
       "      <td>951.727557</td>\n",
       "      <td>-189.535540</td>\n",
       "      <td>-159.931663</td>\n",
       "      <td>-94.317400</td>\n",
       "      <td>951.727557</td>\n",
       "      <td>-189.535540</td>\n",
       "      <td>-159.931663</td>\n",
       "      <td>-94.317400</td>\n",
       "    </tr>\n",
       "    <tr>\n",
       "      <th>Age_mean</th>\n",
       "      <td>204.349513</td>\n",
       "      <td>125.558364</td>\n",
       "      <td>-4.149246</td>\n",
       "      <td>-189.535540</td>\n",
       "      <td>318.089620</td>\n",
       "      <td>257.379887</td>\n",
       "      <td>114.394141</td>\n",
       "      <td>-189.535540</td>\n",
       "      <td>318.089620</td>\n",
       "      <td>257.379887</td>\n",
       "      <td>114.394141</td>\n",
       "    </tr>\n",
       "    <tr>\n",
       "      <th>Fare_median</th>\n",
       "      <td>162.793430</td>\n",
       "      <td>2448.197914</td>\n",
       "      <td>11.528625</td>\n",
       "      <td>-159.931663</td>\n",
       "      <td>257.379887</td>\n",
       "      <td>47219.202652</td>\n",
       "      <td>762.474982</td>\n",
       "      <td>-159.931663</td>\n",
       "      <td>257.379887</td>\n",
       "      <td>47219.202652</td>\n",
       "      <td>762.474982</td>\n",
       "    </tr>\n",
       "    <tr>\n",
       "      <th>Fare_mean</th>\n",
       "      <td>63.321188</td>\n",
       "      <td>2448.197914</td>\n",
       "      <td>16.553989</td>\n",
       "      <td>-94.317400</td>\n",
       "      <td>114.394141</td>\n",
       "      <td>762.474982</td>\n",
       "      <td>2378.567678</td>\n",
       "      <td>-94.317400</td>\n",
       "      <td>114.394141</td>\n",
       "      <td>762.474982</td>\n",
       "      <td>2378.567678</td>\n",
       "    </tr>\n",
       "    <tr>\n",
       "      <th>Age_99</th>\n",
       "      <td>204.349513</td>\n",
       "      <td>-101.671097</td>\n",
       "      <td>-7.387287</td>\n",
       "      <td>951.727557</td>\n",
       "      <td>-189.535540</td>\n",
       "      <td>-159.931663</td>\n",
       "      <td>-94.317400</td>\n",
       "      <td>951.727557</td>\n",
       "      <td>-189.535540</td>\n",
       "      <td>-159.931663</td>\n",
       "      <td>-94.317400</td>\n",
       "    </tr>\n",
       "    <tr>\n",
       "      <th>Age_minus1</th>\n",
       "      <td>204.349513</td>\n",
       "      <td>125.558364</td>\n",
       "      <td>-4.149246</td>\n",
       "      <td>-189.535540</td>\n",
       "      <td>318.089620</td>\n",
       "      <td>257.379887</td>\n",
       "      <td>114.394141</td>\n",
       "      <td>-189.535540</td>\n",
       "      <td>318.089620</td>\n",
       "      <td>257.379887</td>\n",
       "      <td>114.394141</td>\n",
       "    </tr>\n",
       "    <tr>\n",
       "      <th>Fare_999</th>\n",
       "      <td>162.793430</td>\n",
       "      <td>2448.197914</td>\n",
       "      <td>11.528625</td>\n",
       "      <td>-159.931663</td>\n",
       "      <td>257.379887</td>\n",
       "      <td>47219.202652</td>\n",
       "      <td>762.474982</td>\n",
       "      <td>-159.931663</td>\n",
       "      <td>257.379887</td>\n",
       "      <td>47219.202652</td>\n",
       "      <td>762.474982</td>\n",
       "    </tr>\n",
       "    <tr>\n",
       "      <th>Fare_minus1</th>\n",
       "      <td>63.321188</td>\n",
       "      <td>2448.197914</td>\n",
       "      <td>16.553989</td>\n",
       "      <td>-94.317400</td>\n",
       "      <td>114.394141</td>\n",
       "      <td>762.474982</td>\n",
       "      <td>2378.567678</td>\n",
       "      <td>-94.317400</td>\n",
       "      <td>114.394141</td>\n",
       "      <td>762.474982</td>\n",
       "      <td>2378.567678</td>\n",
       "    </tr>\n",
       "  </tbody>\n",
       "</table>\n",
       "</div>"
      ],
      "text/plain": [
       "                    Age         Fare     Family  Age_median    Age_mean  \\\n",
       "Age          204.349513    70.719262  -6.498901  204.349513  204.349513   \n",
       "Fare          70.719262  2448.197914  17.258917 -101.671097  125.558364   \n",
       "Family        -6.498901    17.258917   2.735252   -7.387287   -4.149246   \n",
       "Age_median   204.349513  -101.671097  -7.387287  951.727557 -189.535540   \n",
       "Age_mean     204.349513   125.558364  -4.149246 -189.535540  318.089620   \n",
       "Fare_median  162.793430  2448.197914  11.528625 -159.931663  257.379887   \n",
       "Fare_mean     63.321188  2448.197914  16.553989  -94.317400  114.394141   \n",
       "Age_99       204.349513  -101.671097  -7.387287  951.727557 -189.535540   \n",
       "Age_minus1   204.349513   125.558364  -4.149246 -189.535540  318.089620   \n",
       "Fare_999     162.793430  2448.197914  11.528625 -159.931663  257.379887   \n",
       "Fare_minus1   63.321188  2448.197914  16.553989  -94.317400  114.394141   \n",
       "\n",
       "              Fare_median    Fare_mean      Age_99  Age_minus1      Fare_999  \\\n",
       "Age            162.793430    63.321188  204.349513  204.349513    162.793430   \n",
       "Fare          2448.197914  2448.197914 -101.671097  125.558364   2448.197914   \n",
       "Family          11.528625    16.553989   -7.387287   -4.149246     11.528625   \n",
       "Age_median    -159.931663   -94.317400  951.727557 -189.535540   -159.931663   \n",
       "Age_mean       257.379887   114.394141 -189.535540  318.089620    257.379887   \n",
       "Fare_median  47219.202652   762.474982 -159.931663  257.379887  47219.202652   \n",
       "Fare_mean      762.474982  2378.567678  -94.317400  114.394141    762.474982   \n",
       "Age_99        -159.931663   -94.317400  951.727557 -189.535540   -159.931663   \n",
       "Age_minus1     257.379887   114.394141 -189.535540  318.089620    257.379887   \n",
       "Fare_999     47219.202652   762.474982 -159.931663  257.379887  47219.202652   \n",
       "Fare_minus1    762.474982  2378.567678  -94.317400  114.394141    762.474982   \n",
       "\n",
       "             Fare_minus1  \n",
       "Age            63.321188  \n",
       "Fare         2448.197914  \n",
       "Family         16.553989  \n",
       "Age_median    -94.317400  \n",
       "Age_mean      114.394141  \n",
       "Fare_median   762.474982  \n",
       "Fare_mean    2378.567678  \n",
       "Age_99        -94.317400  \n",
       "Age_minus1    114.394141  \n",
       "Fare_999      762.474982  \n",
       "Fare_minus1  2378.567678  "
      ]
     },
     "execution_count": 17,
     "metadata": {},
     "output_type": "execute_result"
    }
   ],
   "source": [
    "X_train.cov()"
   ]
  },
  {
   "cell_type": "code",
   "execution_count": 18,
   "id": "66d00f6d",
   "metadata": {},
   "outputs": [
    {
     "data": {
      "text/html": [
       "<div>\n",
       "<style scoped>\n",
       "    .dataframe tbody tr th:only-of-type {\n",
       "        vertical-align: middle;\n",
       "    }\n",
       "\n",
       "    .dataframe tbody tr th {\n",
       "        vertical-align: top;\n",
       "    }\n",
       "\n",
       "    .dataframe thead th {\n",
       "        text-align: right;\n",
       "    }\n",
       "</style>\n",
       "<table border=\"1\" class=\"dataframe\">\n",
       "  <thead>\n",
       "    <tr style=\"text-align: right;\">\n",
       "      <th></th>\n",
       "      <th>Age</th>\n",
       "      <th>Fare</th>\n",
       "      <th>Family</th>\n",
       "      <th>Age_median</th>\n",
       "      <th>Age_mean</th>\n",
       "      <th>Fare_median</th>\n",
       "      <th>Fare_mean</th>\n",
       "      <th>Age_99</th>\n",
       "      <th>Age_minus1</th>\n",
       "      <th>Fare_999</th>\n",
       "      <th>Fare_minus1</th>\n",
       "    </tr>\n",
       "  </thead>\n",
       "  <tbody>\n",
       "    <tr>\n",
       "      <th>Age</th>\n",
       "      <td>1.000000</td>\n",
       "      <td>0.092644</td>\n",
       "      <td>-0.299113</td>\n",
       "      <td>1.000000</td>\n",
       "      <td>1.000000</td>\n",
       "      <td>0.051179</td>\n",
       "      <td>0.084585</td>\n",
       "      <td>1.000000</td>\n",
       "      <td>1.000000</td>\n",
       "      <td>0.051179</td>\n",
       "      <td>0.084585</td>\n",
       "    </tr>\n",
       "    <tr>\n",
       "      <th>Fare</th>\n",
       "      <td>0.092644</td>\n",
       "      <td>1.000000</td>\n",
       "      <td>0.208268</td>\n",
       "      <td>-0.066273</td>\n",
       "      <td>0.142022</td>\n",
       "      <td>1.000000</td>\n",
       "      <td>1.000000</td>\n",
       "      <td>-0.066273</td>\n",
       "      <td>0.142022</td>\n",
       "      <td>1.000000</td>\n",
       "      <td>1.000000</td>\n",
       "    </tr>\n",
       "    <tr>\n",
       "      <th>Family</th>\n",
       "      <td>-0.299113</td>\n",
       "      <td>0.208268</td>\n",
       "      <td>1.000000</td>\n",
       "      <td>-0.144787</td>\n",
       "      <td>-0.140668</td>\n",
       "      <td>0.032079</td>\n",
       "      <td>0.205233</td>\n",
       "      <td>-0.144787</td>\n",
       "      <td>-0.140668</td>\n",
       "      <td>0.032079</td>\n",
       "      <td>0.205233</td>\n",
       "    </tr>\n",
       "    <tr>\n",
       "      <th>Age_median</th>\n",
       "      <td>1.000000</td>\n",
       "      <td>-0.066273</td>\n",
       "      <td>-0.144787</td>\n",
       "      <td>1.000000</td>\n",
       "      <td>-0.344476</td>\n",
       "      <td>-0.023857</td>\n",
       "      <td>-0.062687</td>\n",
       "      <td>1.000000</td>\n",
       "      <td>-0.344476</td>\n",
       "      <td>-0.023857</td>\n",
       "      <td>-0.062687</td>\n",
       "    </tr>\n",
       "    <tr>\n",
       "      <th>Age_mean</th>\n",
       "      <td>1.000000</td>\n",
       "      <td>0.142022</td>\n",
       "      <td>-0.140668</td>\n",
       "      <td>-0.344476</td>\n",
       "      <td>1.000000</td>\n",
       "      <td>0.066411</td>\n",
       "      <td>0.131514</td>\n",
       "      <td>-0.344476</td>\n",
       "      <td>1.000000</td>\n",
       "      <td>0.066411</td>\n",
       "      <td>0.131514</td>\n",
       "    </tr>\n",
       "    <tr>\n",
       "      <th>Fare_median</th>\n",
       "      <td>0.051179</td>\n",
       "      <td>1.000000</td>\n",
       "      <td>0.032079</td>\n",
       "      <td>-0.023857</td>\n",
       "      <td>0.066411</td>\n",
       "      <td>1.000000</td>\n",
       "      <td>0.071946</td>\n",
       "      <td>-0.023857</td>\n",
       "      <td>0.066411</td>\n",
       "      <td>1.000000</td>\n",
       "      <td>0.071946</td>\n",
       "    </tr>\n",
       "    <tr>\n",
       "      <th>Fare_mean</th>\n",
       "      <td>0.084585</td>\n",
       "      <td>1.000000</td>\n",
       "      <td>0.205233</td>\n",
       "      <td>-0.062687</td>\n",
       "      <td>0.131514</td>\n",
       "      <td>0.071946</td>\n",
       "      <td>1.000000</td>\n",
       "      <td>-0.062687</td>\n",
       "      <td>0.131514</td>\n",
       "      <td>0.071946</td>\n",
       "      <td>1.000000</td>\n",
       "    </tr>\n",
       "    <tr>\n",
       "      <th>Age_99</th>\n",
       "      <td>1.000000</td>\n",
       "      <td>-0.066273</td>\n",
       "      <td>-0.144787</td>\n",
       "      <td>1.000000</td>\n",
       "      <td>-0.344476</td>\n",
       "      <td>-0.023857</td>\n",
       "      <td>-0.062687</td>\n",
       "      <td>1.000000</td>\n",
       "      <td>-0.344476</td>\n",
       "      <td>-0.023857</td>\n",
       "      <td>-0.062687</td>\n",
       "    </tr>\n",
       "    <tr>\n",
       "      <th>Age_minus1</th>\n",
       "      <td>1.000000</td>\n",
       "      <td>0.142022</td>\n",
       "      <td>-0.140668</td>\n",
       "      <td>-0.344476</td>\n",
       "      <td>1.000000</td>\n",
       "      <td>0.066411</td>\n",
       "      <td>0.131514</td>\n",
       "      <td>-0.344476</td>\n",
       "      <td>1.000000</td>\n",
       "      <td>0.066411</td>\n",
       "      <td>0.131514</td>\n",
       "    </tr>\n",
       "    <tr>\n",
       "      <th>Fare_999</th>\n",
       "      <td>0.051179</td>\n",
       "      <td>1.000000</td>\n",
       "      <td>0.032079</td>\n",
       "      <td>-0.023857</td>\n",
       "      <td>0.066411</td>\n",
       "      <td>1.000000</td>\n",
       "      <td>0.071946</td>\n",
       "      <td>-0.023857</td>\n",
       "      <td>0.066411</td>\n",
       "      <td>1.000000</td>\n",
       "      <td>0.071946</td>\n",
       "    </tr>\n",
       "    <tr>\n",
       "      <th>Fare_minus1</th>\n",
       "      <td>0.084585</td>\n",
       "      <td>1.000000</td>\n",
       "      <td>0.205233</td>\n",
       "      <td>-0.062687</td>\n",
       "      <td>0.131514</td>\n",
       "      <td>0.071946</td>\n",
       "      <td>1.000000</td>\n",
       "      <td>-0.062687</td>\n",
       "      <td>0.131514</td>\n",
       "      <td>0.071946</td>\n",
       "      <td>1.000000</td>\n",
       "    </tr>\n",
       "  </tbody>\n",
       "</table>\n",
       "</div>"
      ],
      "text/plain": [
       "                  Age      Fare    Family  Age_median  Age_mean  Fare_median  \\\n",
       "Age          1.000000  0.092644 -0.299113    1.000000  1.000000     0.051179   \n",
       "Fare         0.092644  1.000000  0.208268   -0.066273  0.142022     1.000000   \n",
       "Family      -0.299113  0.208268  1.000000   -0.144787 -0.140668     0.032079   \n",
       "Age_median   1.000000 -0.066273 -0.144787    1.000000 -0.344476    -0.023857   \n",
       "Age_mean     1.000000  0.142022 -0.140668   -0.344476  1.000000     0.066411   \n",
       "Fare_median  0.051179  1.000000  0.032079   -0.023857  0.066411     1.000000   \n",
       "Fare_mean    0.084585  1.000000  0.205233   -0.062687  0.131514     0.071946   \n",
       "Age_99       1.000000 -0.066273 -0.144787    1.000000 -0.344476    -0.023857   \n",
       "Age_minus1   1.000000  0.142022 -0.140668   -0.344476  1.000000     0.066411   \n",
       "Fare_999     0.051179  1.000000  0.032079   -0.023857  0.066411     1.000000   \n",
       "Fare_minus1  0.084585  1.000000  0.205233   -0.062687  0.131514     0.071946   \n",
       "\n",
       "             Fare_mean    Age_99  Age_minus1  Fare_999  Fare_minus1  \n",
       "Age           0.084585  1.000000    1.000000  0.051179     0.084585  \n",
       "Fare          1.000000 -0.066273    0.142022  1.000000     1.000000  \n",
       "Family        0.205233 -0.144787   -0.140668  0.032079     0.205233  \n",
       "Age_median   -0.062687  1.000000   -0.344476 -0.023857    -0.062687  \n",
       "Age_mean      0.131514 -0.344476    1.000000  0.066411     0.131514  \n",
       "Fare_median   0.071946 -0.023857    0.066411  1.000000     0.071946  \n",
       "Fare_mean     1.000000 -0.062687    0.131514  0.071946     1.000000  \n",
       "Age_99       -0.062687  1.000000   -0.344476 -0.023857    -0.062687  \n",
       "Age_minus1    0.131514 -0.344476    1.000000  0.066411     0.131514  \n",
       "Fare_999      0.071946 -0.023857    0.066411  1.000000     0.071946  \n",
       "Fare_minus1   1.000000 -0.062687    0.131514  0.071946     1.000000  "
      ]
     },
     "execution_count": 18,
     "metadata": {},
     "output_type": "execute_result"
    }
   ],
   "source": [
    "X_train.corr()"
   ]
  },
  {
   "cell_type": "markdown",
   "id": "87c52dc8",
   "metadata": {},
   "source": [
    "### Using Sklearn"
   ]
  },
  {
   "cell_type": "code",
   "execution_count": 19,
   "id": "462bf659",
   "metadata": {},
   "outputs": [
    {
     "data": {
      "text/plain": [
       "<AxesSubplot:>"
      ]
     },
     "execution_count": 19,
     "metadata": {},
     "output_type": "execute_result"
    },
    {
     "data": {
      "image/png": "[encoded data removed]",
      "text/plain": [
       "<Figure size 640x480 with 1 Axes>"
      ]
     },
     "metadata": {},
     "output_type": "display_data"
    }
   ],
   "source": [
    "X_train[['Age', 'Age_99', 'Age_minus1']].boxplot()"
   ]
  },
  {
   "cell_type": "code",
   "execution_count": 20,
   "id": "568b2ff6",
   "metadata": {},
   "outputs": [
    {
     "data": {
      "text/plain": [
       "<AxesSubplot:>"
      ]
     },
     "execution_count": 20,
     "metadata": {},
     "output_type": "execute_result"
    },
    {
     "data": {
      "image/png": "[encoded data removed]",
      "text/plain": [
       "<Figure size 640x480 with 1 Axes>"
      ]
     },
     "metadata": {},
     "output_type": "display_data"
    }
   ],
   "source": [
    "X_train[['Fare', 'Fare_999', 'Fare_minus1']].boxplot()"
   ]
  },
  {
   "cell_type": "code",
   "execution_count": 21,
   "id": "df137f0b",
   "metadata": {},
   "outputs": [],
   "source": [
    "X_train, X_test, y_train, y_test= train_test_split(X,y,test_size=0.2, random_state=2)"
   ]
  },
  {
   "cell_type": "code",
   "execution_count": 22,
   "id": "5c8e1450",
   "metadata": {},
   "outputs": [],
   "source": [
    "imputer1= SimpleImputer(strategy= 'constant', fill_value= 99)\n",
    "imputer2= SimpleImputer(strategy= 'constant', fill_value= 999)"
   ]
  },
  {
   "cell_type": "code",
   "execution_count": 23,
   "id": "3e9be615",
   "metadata": {},
   "outputs": [],
   "source": [
    "trf = ColumnTransformer([\n",
    "    ('imputer1', imputer1, ['Age']),\n",
    "    ('imputer2', imputer2, ['Fare'])\n",
    "], remainder='passthrough')"
   ]
  },
  {
   "cell_type": "code",
   "execution_count": 24,
   "id": "9db2bf85",
   "metadata": {},
   "outputs": [
    {
     "data": {
      "text/plain": [
       "ColumnTransformer(remainder='passthrough',\n",
       "                  transformers=[('imputer1',\n",
       "                                 SimpleImputer(fill_value=99,\n",
       "                                               strategy='constant'),\n",
       "                                 ['Age']),\n",
       "                                ('imputer2',\n",
       "                                 SimpleImputer(fill_value=999,\n",
       "                                               strategy='constant'),\n",
       "                                 ['Fare'])])"
      ]
     },
     "execution_count": 24,
     "metadata": {},
     "output_type": "execute_result"
    }
   ],
   "source": [
    "trf.fit(X_train)"
   ]
  },
  {
   "cell_type": "code",
   "execution_count": 25,
   "id": "10f154a8",
   "metadata": {},
   "outputs": [
    {
     "data": {
      "text/plain": [
       "array([99.])"
      ]
     },
     "execution_count": 25,
     "metadata": {},
     "output_type": "execute_result"
    }
   ],
   "source": [
    "trf.named_transformers_['imputer1'].statistics_"
   ]
  },
  {
   "cell_type": "code",
   "execution_count": 26,
   "id": "a3c2e628",
   "metadata": {},
   "outputs": [
    {
     "data": {
      "text/plain": [
       "array([999.])"
      ]
     },
     "execution_count": 26,
     "metadata": {},
     "output_type": "execute_result"
    }
   ],
   "source": [
    "trf.named_transformers_['imputer2'].statistics_"
   ]
  },
  {
   "cell_type": "code",
   "execution_count": 27,
   "id": "8b371afb",
   "metadata": {},
   "outputs": [],
   "source": [
    "X_train = trf.transform(X_train)\n",
    "X_test= trf.transform(X_test)"
   ]
  },
  {
   "cell_type": "code",
   "execution_count": 28,
   "id": "15b16cc0",
   "metadata": {},
   "outputs": [
    {
     "data": {
      "text/plain": [
       "array([[ 40.    ,  27.7208,   0.    ],\n",
       "       [  4.    ,  16.7   ,   2.    ],\n",
       "       [ 47.    ,   9.    ,   0.    ],\n",
       "       ...,\n",
       "       [ 71.    ,  49.5042,   0.    ],\n",
       "       [ 99.    , 221.7792,   0.    ],\n",
       "       [ 99.    ,  25.925 ,   0.    ]])"
      ]
     },
     "execution_count": 28,
     "metadata": {},
     "output_type": "execute_result"
    }
   ],
   "source": [
    "X_train"
   ]
  },
  {
   "cell_type": "code",
   "execution_count": 29,
   "id": "b78de412",
   "metadata": {},
   "outputs": [
    {
     "data": {
      "text/plain": [
       "array([[4.200000e+01, 2.628750e+01, 0.000000e+00],\n",
       "       [2.100000e+01, 8.050000e+00, 0.000000e+00],\n",
       "       [2.400000e+01, 6.500000e+01, 3.000000e+00],\n",
       "       [2.800000e+01, 5.649580e+01, 0.000000e+00],\n",
       "       [1.700000e+01, 7.925000e+00, 6.000000e+00],\n",
       "       [3.000000e+01, 7.895800e+00, 0.000000e+00],\n",
       "       [8.000000e+01, 3.000000e+01, 0.000000e+00],\n",
       "       [2.500000e+01, 7.250000e+00, 0.000000e+00],\n",
       "       [5.000000e+01, 1.336500e+02, 2.000000e+00],\n",
       "       [2.500000e+01, 2.600000e+01, 1.000000e+00],\n",
       "       [3.500000e+01, 2.600000e+01, 0.000000e+00],\n",
       "       [3.500000e+01, 9.000000e+01, 1.000000e+00],\n",
       "       [5.500000e+01, 1.600000e+01, 0.000000e+00],\n",
       "       [9.900000e+01, 5.649580e+01, 0.000000e+00],\n",
       "       [9.900000e+01, 5.649580e+01, 0.000000e+00],\n",
       "       [1.900000e+01, 7.854200e+00, 1.000000e+00],\n",
       "       [9.900000e+01, 1.524580e+01, 2.000000e+00],\n",
       "       [4.900000e+01, 0.000000e+00, 0.000000e+00],\n",
       "       [1.800000e+01, 9.990000e+02, 1.000000e+00],\n",
       "       [6.500000e+01, 7.750000e+00, 0.000000e+00],\n",
       "       [1.800000e+01, 1.089000e+02, 1.000000e+00],\n",
       "       [9.900000e+01, 2.235830e+01, 2.000000e+00],\n",
       "       [1.600000e+01, 1.800000e+01, 2.000000e+00],\n",
       "       [2.100000e+01, 9.825000e+00, 1.000000e+00],\n",
       "       [1.900000e+01, 6.750000e+00, 0.000000e+00],\n",
       "       [1.000000e+00, 1.113330e+01, 2.000000e+00],\n",
       "       [5.000000e+01, 1.050000e+01, 0.000000e+00],\n",
       "       [3.700000e+01, 5.310000e+01, 1.000000e+00],\n",
       "       [2.800000e+01, 9.990000e+02, 0.000000e+00],\n",
       "       [5.400000e+01, 1.400000e+01, 0.000000e+00],\n",
       "       [2.000000e+01, 7.925000e+00, 0.000000e+00],\n",
       "       [3.600000e+01, 0.000000e+00, 0.000000e+00],\n",
       "       [6.000000e+00, 3.127500e+01, 6.000000e+00],\n",
       "       [9.900000e+01, 5.000000e+01, 0.000000e+00],\n",
       "       [4.000000e+01, 3.100000e+01, 0.000000e+00],\n",
       "       [2.600000e+01, 1.610000e+01, 1.000000e+00],\n",
       "       [3.000000e+01, 9.990000e+02, 0.000000e+00],\n",
       "       [1.000000e+00, 4.690000e+01, 7.000000e+00],\n",
       "       [9.900000e+01, 7.895800e+00, 0.000000e+00],\n",
       "       [3.500000e+01, 1.050000e+01, 0.000000e+00],\n",
       "       [3.800000e+01, 7.050000e+00, 0.000000e+00],\n",
       "       [4.400000e+01, 1.610000e+01, 1.000000e+00],\n",
       "       [2.200000e+01, 7.750000e+00, 0.000000e+00],\n",
       "       [1.800000e+01, 6.495800e+00, 1.000000e+00],\n",
       "       [2.100000e+01, 8.433300e+00, 0.000000e+00],\n",
       "       [9.900000e+01, 2.275250e+02, 0.000000e+00],\n",
       "       [2.100000e+01, 7.795830e+01, 0.000000e+00],\n",
       "       [9.900000e+01, 8.662500e+00, 0.000000e+00],\n",
       "       [2.200000e+01, 7.225000e+00, 0.000000e+00],\n",
       "       [2.700000e+01, 1.050000e+01, 0.000000e+00],\n",
       "       [9.900000e+01, 8.050000e+00, 0.000000e+00],\n",
       "       [5.100000e+01, 2.655000e+01, 0.000000e+00],\n",
       "       [2.800000e+01, 3.300000e+01, 1.000000e+00],\n",
       "       [4.700000e+01, 3.850000e+01, 0.000000e+00],\n",
       "       [3.200000e+01, 1.050000e+01, 0.000000e+00],\n",
       "       [4.800000e+01, 5.200000e+01, 1.000000e+00],\n",
       "       [1.000000e+01, 2.415000e+01, 2.000000e+00],\n",
       "       [2.100000e+01, 8.662500e+00, 0.000000e+00],\n",
       "       [5.100000e+01, 7.054200e+00, 0.000000e+00],\n",
       "       [3.200000e+01, 7.925000e+00, 0.000000e+00],\n",
       "       [4.200000e+01, 1.300000e+01, 0.000000e+00],\n",
       "       [2.000000e+00, 2.600000e+01, 2.000000e+00],\n",
       "       [3.500000e+01, 8.050000e+00, 0.000000e+00],\n",
       "       [9.900000e+01, 7.250000e+00, 0.000000e+00],\n",
       "       [2.000000e+00, 1.046250e+01, 1.000000e+00],\n",
       "       [3.300000e+01, 9.500000e+00, 0.000000e+00],\n",
       "       [4.800000e+01, 2.592920e+01, 0.000000e+00],\n",
       "       [5.500000e+01, 3.050000e+01, 0.000000e+00],\n",
       "       [1.000000e+00, 3.968750e+01, 5.000000e+00],\n",
       "       [1.700000e+01, 7.054200e+00, 1.000000e+00],\n",
       "       [2.400000e+01, 1.585000e+01, 1.000000e+00],\n",
       "       [7.400000e+01, 7.775000e+00, 0.000000e+00],\n",
       "       [9.900000e+01, 2.415000e+01, 1.000000e+00],\n",
       "       [2.800000e+01, 7.795800e+00, 0.000000e+00],\n",
       "       [2.600000e+01, 7.854200e+00, 0.000000e+00],\n",
       "       [1.000000e+00, 3.900000e+01, 3.000000e+00],\n",
       "       [1.800000e+01, 8.050000e+00, 0.000000e+00],\n",
       "       [3.000000e+00, 2.600000e+01, 2.000000e+00],\n",
       "       [4.800000e+01, 3.960000e+01, 1.000000e+00],\n",
       "       [3.200000e+01, 5.649580e+01, 0.000000e+00],\n",
       "       [1.900000e+01, 9.107920e+01, 1.000000e+00],\n",
       "       [9.900000e+01, 4.240000e+01, 0.000000e+00],\n",
       "       [7.000000e+01, 1.050000e+01, 0.000000e+00],\n",
       "       [3.400000e+01, 2.600000e+01, 1.000000e+00],\n",
       "       [3.900000e+01, 1.108833e+02, 2.000000e+00],\n",
       "       [1.700000e+01, 1.050000e+01, 0.000000e+00],\n",
       "       [3.800000e+01, 8.662500e+00, 0.000000e+00],\n",
       "       [9.900000e+01, 7.895800e+00, 0.000000e+00],\n",
       "       [3.000000e+01, 2.100000e+01, 3.000000e+00],\n",
       "       [2.800000e+01, 1.300000e+01, 0.000000e+00],\n",
       "       [9.900000e+01, 7.725000e+00, 0.000000e+00],\n",
       "       [1.900000e+01, 8.158300e+00, 0.000000e+00],\n",
       "       [2.900000e+01, 7.750000e+00, 0.000000e+00],\n",
       "       [9.900000e+01, 7.895800e+00, 0.000000e+00],\n",
       "       [4.400000e+01, 7.925000e+00, 0.000000e+00],\n",
       "       [2.200000e+01, 4.157920e+01, 3.000000e+00],\n",
       "       [2.100000e+01, 3.437500e+01, 4.000000e+00],\n",
       "       [4.100000e+01, 1.950000e+01, 1.000000e+00],\n",
       "       [9.900000e+01, 7.225000e+00, 0.000000e+00],\n",
       "       [2.500000e+01, 5.544170e+01, 1.000000e+00],\n",
       "       [9.200000e-01, 9.990000e+02, 3.000000e+00],\n",
       "       [4.400000e+01, 2.600000e+01, 1.000000e+00],\n",
       "       [1.900000e+01, 2.600000e+01, 0.000000e+00],\n",
       "       [3.000000e+01, 5.692920e+01, 0.000000e+00],\n",
       "       [2.000000e+01, 9.500000e+00, 0.000000e+00],\n",
       "       [5.000000e+00, 1.247500e+01, 0.000000e+00],\n",
       "       [4.000000e+00, 3.900000e+01, 3.000000e+00],\n",
       "       [9.900000e+01, 1.610000e+01, 1.000000e+00],\n",
       "       [3.800000e+01, 0.000000e+00, 0.000000e+00],\n",
       "       [2.800000e+01, 2.252500e+01, 0.000000e+00],\n",
       "       [9.900000e+01, 3.000000e+01, 0.000000e+00],\n",
       "       [2.900000e+01, 7.775000e+00, 0.000000e+00],\n",
       "       [4.900000e+01, 8.910420e+01, 1.000000e+00],\n",
       "       [1.900000e+01, 1.450000e+01, 0.000000e+00],\n",
       "       [1.800000e+01, 2.623750e+02, 4.000000e+00],\n",
       "       [3.100000e+01, 2.625000e+01, 2.000000e+00],\n",
       "       [2.700000e+01, 7.795800e+00, 0.000000e+00],\n",
       "       [3.600000e+01, 9.990000e+02, 3.000000e+00],\n",
       "       [8.000000e+00, 3.675000e+01, 2.000000e+00],\n",
       "       [2.000000e+00, 2.107500e+01, 4.000000e+00],\n",
       "       [6.300000e+01, 7.795830e+01, 1.000000e+00],\n",
       "       [3.100000e+01, 7.750000e+00, 0.000000e+00],\n",
       "       [9.900000e+01, 0.000000e+00, 0.000000e+00],\n",
       "       [2.500000e+01, 1.300000e+01, 0.000000e+00],\n",
       "       [2.050000e+01, 7.250000e+00, 0.000000e+00],\n",
       "       [9.900000e+01, 7.895800e+00, 0.000000e+00],\n",
       "       [6.400000e+01, 2.630000e+02, 5.000000e+00],\n",
       "       [1.900000e+01, 2.600000e+01, 1.000000e+00],\n",
       "       [1.800000e+01, 7.775000e+00, 0.000000e+00],\n",
       "       [9.900000e+01, 0.000000e+00, 0.000000e+00],\n",
       "       [9.900000e+01, 7.895800e+00, 0.000000e+00],\n",
       "       [1.100000e+01, 1.878750e+01, 0.000000e+00],\n",
       "       [1.500000e+01, 1.445420e+01, 1.000000e+00],\n",
       "       [2.200000e+01, 5.500000e+01, 1.000000e+00],\n",
       "       [5.000000e+01, 1.300000e+01, 0.000000e+00],\n",
       "       [2.800000e+01, 1.440000e+01, 2.000000e+00],\n",
       "       [3.900000e+01, 1.300000e+01, 0.000000e+00],\n",
       "       [9.900000e+01, 8.050000e+00, 0.000000e+00],\n",
       "       [3.900000e+01, 9.990000e+02, 0.000000e+00],\n",
       "       [2.400000e+01, 1.610000e+01, 1.000000e+00],\n",
       "       [2.300000e+01, 9.990000e+02, 0.000000e+00],\n",
       "       [1.700000e+01, 5.700000e+01, 1.000000e+00],\n",
       "       [4.400000e+01, 2.600000e+01, 1.000000e+00],\n",
       "       [2.300000e+01, 1.379170e+01, 0.000000e+00],\n",
       "       [9.900000e+01, 2.655000e+01, 0.000000e+00],\n",
       "       [5.200000e+01, 7.826670e+01, 1.000000e+00],\n",
       "       [2.450000e+01, 8.050000e+00, 0.000000e+00],\n",
       "       [5.550000e+01, 8.050000e+00, 0.000000e+00],\n",
       "       [1.800000e+01, 7.795800e+00, 0.000000e+00],\n",
       "       [1.800000e+01, 1.300000e+01, 2.000000e+00],\n",
       "       [4.500000e+01, 8.347500e+01, 1.000000e+00],\n",
       "       [3.100000e+01, 1.800000e+01, 1.000000e+00],\n",
       "       [3.050000e+01, 8.050000e+00, 0.000000e+00],\n",
       "       [4.200000e+01, 8.404200e+00, 1.000000e+00],\n",
       "       [9.900000e+01, 7.750000e+00, 0.000000e+00],\n",
       "       [3.600000e+01, 7.495800e+00, 0.000000e+00],\n",
       "       [3.400000e+01, 2.655000e+01, 0.000000e+00],\n",
       "       [5.400000e+01, 7.826670e+01, 1.000000e+00],\n",
       "       [1.500000e+01, 8.029200e+00, 0.000000e+00],\n",
       "       [2.500000e+01, 7.775000e+00, 1.000000e+00],\n",
       "       [2.600000e+01, 9.990000e+02, 0.000000e+00],\n",
       "       [9.900000e+01, 8.112500e+00, 0.000000e+00],\n",
       "       [1.900000e+01, 8.050000e+00, 0.000000e+00],\n",
       "       [2.900000e+01, 7.895800e+00, 0.000000e+00],\n",
       "       [1.900000e+01, 3.000000e+01, 0.000000e+00],\n",
       "       [3.300000e+01, 9.000000e+01, 1.000000e+00],\n",
       "       [3.600000e+01, 2.415000e+01, 2.000000e+00],\n",
       "       [9.900000e+01, 7.775000e+00, 0.000000e+00],\n",
       "       [3.500000e+01, 5.123292e+02, 0.000000e+00],\n",
       "       [2.200000e+01, 7.250000e+00, 0.000000e+00],\n",
       "       [9.900000e+01, 1.610000e+01, 1.000000e+00],\n",
       "       [1.800000e+01, 7.495800e+00, 0.000000e+00],\n",
       "       [2.800000e+01, 2.600000e+01, 1.000000e+00],\n",
       "       [2.200000e+01, 7.250000e+00, 0.000000e+00],\n",
       "       [2.400000e+01, 8.050000e+00, 0.000000e+00],\n",
       "       [2.200000e+01, 9.000000e+00, 0.000000e+00],\n",
       "       [9.900000e+01, 6.955000e+01, 1.000000e+01],\n",
       "       [2.600000e+01, 7.895800e+00, 0.000000e+00],\n",
       "       [2.900000e+01, 9.990000e+02, 2.000000e+00]])"
      ]
     },
     "execution_count": 29,
     "metadata": {},
     "output_type": "execute_result"
    }
   ],
   "source": [
    "X_test"
   ]
  },
  {
   "cell_type": "code",
   "execution_count": null,
   "id": "4a47e686",
   "metadata": {},
   "outputs": [],
   "source": []
  }
 ],
 "metadata": {
  "kernelspec": {
   "display_name": "Python 3 (ipykernel)",
   "language": "python",
   "name": "python3"
  },
  "language_info": {
   "codemirror_mode": {
    "name": "ipython",
    "version": 3
   },
   "file_extension": ".py",
   "mimetype": "text/x-python",
   "name": "python",
   "nbconvert_exporter": "python",
   "pygments_lexer": "ipython3",
   "version": "3.9.13"
  }
 },
 "nbformat": 4,
 "nbformat_minor": 5
}
