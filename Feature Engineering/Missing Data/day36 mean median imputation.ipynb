{
 "cells": [
  {
   "cell_type": "code",
   "execution_count": 1,
   "id": "9c2f9b45",
   "metadata": {},
   "outputs": [],
   "source": [
    "import pandas as pd\n",
    "import numpy as np\n",
    "import matplotlib.pyplot as plt"
   ]
  },
  {
   "cell_type": "code",
   "execution_count": 2,
   "id": "a1346465",
   "metadata": {},
   "outputs": [],
   "source": [
    "from sklearn.model_selection import train_test_split\n",
    "from sklearn.impute import SimpleImputer\n",
    "from sklearn.compose import ColumnTransformer"
   ]
  },
  {
   "cell_type": "code",
   "execution_count": 3,
   "id": "71320857",
   "metadata": {},
   "outputs": [],
   "source": [
    "df = pd.read_csv('titanic_toy.csv')"
   ]
  },
  {
   "cell_type": "code",
   "execution_count": 4,
   "id": "7a73f436",
   "metadata": {},
   "outputs": [
    {
     "data": {
      "text/html": [
       "<div>\n",
       "<style scoped>\n",
       "    .dataframe tbody tr th:only-of-type {\n",
       "        vertical-align: middle;\n",
       "    }\n",
       "\n",
       "    .dataframe tbody tr th {\n",
       "        vertical-align: top;\n",
       "    }\n",
       "\n",
       "    .dataframe thead th {\n",
       "        text-align: right;\n",
       "    }\n",
       "</style>\n",
       "<table border=\"1\" class=\"dataframe\">\n",
       "  <thead>\n",
       "    <tr style=\"text-align: right;\">\n",
       "      <th></th>\n",
       "      <th>Age</th>\n",
       "      <th>Fare</th>\n",
       "      <th>Family</th>\n",
       "      <th>Survived</th>\n",
       "    </tr>\n",
       "  </thead>\n",
       "  <tbody>\n",
       "    <tr>\n",
       "      <th>0</th>\n",
       "      <td>22.0</td>\n",
       "      <td>7.2500</td>\n",
       "      <td>1</td>\n",
       "      <td>0</td>\n",
       "    </tr>\n",
       "    <tr>\n",
       "      <th>1</th>\n",
       "      <td>38.0</td>\n",
       "      <td>71.2833</td>\n",
       "      <td>1</td>\n",
       "      <td>1</td>\n",
       "    </tr>\n",
       "    <tr>\n",
       "      <th>2</th>\n",
       "      <td>26.0</td>\n",
       "      <td>7.9250</td>\n",
       "      <td>0</td>\n",
       "      <td>1</td>\n",
       "    </tr>\n",
       "    <tr>\n",
       "      <th>3</th>\n",
       "      <td>35.0</td>\n",
       "      <td>53.1000</td>\n",
       "      <td>1</td>\n",
       "      <td>1</td>\n",
       "    </tr>\n",
       "    <tr>\n",
       "      <th>4</th>\n",
       "      <td>35.0</td>\n",
       "      <td>8.0500</td>\n",
       "      <td>0</td>\n",
       "      <td>0</td>\n",
       "    </tr>\n",
       "  </tbody>\n",
       "</table>\n",
       "</div>"
      ],
      "text/plain": [
       "    Age     Fare  Family  Survived\n",
       "0  22.0   7.2500       1         0\n",
       "1  38.0  71.2833       1         1\n",
       "2  26.0   7.9250       0         1\n",
       "3  35.0  53.1000       1         1\n",
       "4  35.0   8.0500       0         0"
      ]
     },
     "execution_count": 4,
     "metadata": {},
     "output_type": "execute_result"
    }
   ],
   "source": [
    "df.head()"
   ]
  },
  {
   "cell_type": "code",
   "execution_count": 5,
   "id": "c453be71",
   "metadata": {},
   "outputs": [
    {
     "name": "stdout",
     "output_type": "stream",
     "text": [
      "<class 'pandas.core.frame.DataFrame'>\n",
      "RangeIndex: 891 entries, 0 to 890\n",
      "Data columns (total 4 columns):\n",
      " #   Column    Non-Null Count  Dtype  \n",
      "---  ------    --------------  -----  \n",
      " 0   Age       714 non-null    float64\n",
      " 1   Fare      846 non-null    float64\n",
      " 2   Family    891 non-null    int64  \n",
      " 3   Survived  891 non-null    int64  \n",
      "dtypes: float64(2), int64(2)\n",
      "memory usage: 28.0 KB\n"
     ]
    }
   ],
   "source": [
    "df.info()"
   ]
  },
  {
   "cell_type": "code",
   "execution_count": 7,
   "id": "6101e372",
   "metadata": {},
   "outputs": [
    {
     "data": {
      "text/plain": [
       "Age         0.198653\n",
       "Fare        0.050505\n",
       "Family      0.000000\n",
       "Survived    0.000000\n",
       "dtype: float64"
      ]
     },
     "execution_count": 7,
     "metadata": {},
     "output_type": "execute_result"
    }
   ],
   "source": [
    "df.isnull().mean()"
   ]
  },
  {
   "cell_type": "code",
   "execution_count": 8,
   "id": "97121fc5",
   "metadata": {},
   "outputs": [],
   "source": [
    "X= df.drop(columns= ['Survived'])\n",
    "y= df['Survived']"
   ]
  },
  {
   "cell_type": "code",
   "execution_count": 10,
   "id": "3b8b9634",
   "metadata": {},
   "outputs": [],
   "source": [
    "X_train, X_test, y_train, y_test= train_test_split(X,y,test_size=0.2, random_state=42)"
   ]
  },
  {
   "cell_type": "code",
   "execution_count": 11,
   "id": "826b605c",
   "metadata": {},
   "outputs": [
    {
     "data": {
      "text/plain": [
       "((712, 3), (179, 3))"
      ]
     },
     "execution_count": 11,
     "metadata": {},
     "output_type": "execute_result"
    }
   ],
   "source": [
    "X_train.shape, X_test.shape"
   ]
  },
  {
   "cell_type": "code",
   "execution_count": 12,
   "id": "6b324050",
   "metadata": {},
   "outputs": [],
   "source": [
    "mean_age= X_train['Age'].mean()\n",
    "median_age= X_train['Age'].median()\n",
    "\n",
    "mean_fare= X_train['Fare'].mean()\n",
    "median_fare= X_train['Fare'].median()\n"
   ]
  },
  {
   "cell_type": "code",
   "execution_count": 13,
   "id": "5e6614b2",
   "metadata": {},
   "outputs": [],
   "source": [
    "X_train['Age_median']= X_train['Age'].fillna(median_age)\n",
    "X_train['Age_mean']= X_train['Age'].fillna(mean_age)\n",
    "\n",
    "X_train['Fare_median']= X_train['Fare'].fillna(median_fare)\n",
    "X_train['Fare_mean']= X_train['Fare'].fillna(mean_fare)\n"
   ]
  },
  {
   "cell_type": "code",
   "execution_count": 14,
   "id": "267f16c3",
   "metadata": {},
   "outputs": [
    {
     "data": {
      "text/html": [
       "<div>\n",
       "<style scoped>\n",
       "    .dataframe tbody tr th:only-of-type {\n",
       "        vertical-align: middle;\n",
       "    }\n",
       "\n",
       "    .dataframe tbody tr th {\n",
       "        vertical-align: top;\n",
       "    }\n",
       "\n",
       "    .dataframe thead th {\n",
       "        text-align: right;\n",
       "    }\n",
       "</style>\n",
       "<table border=\"1\" class=\"dataframe\">\n",
       "  <thead>\n",
       "    <tr style=\"text-align: right;\">\n",
       "      <th></th>\n",
       "      <th>Age</th>\n",
       "      <th>Fare</th>\n",
       "      <th>Family</th>\n",
       "      <th>Age_median</th>\n",
       "      <th>Age_mean</th>\n",
       "      <th>Fare_median</th>\n",
       "      <th>Fare_mean</th>\n",
       "    </tr>\n",
       "  </thead>\n",
       "  <tbody>\n",
       "    <tr>\n",
       "      <th>861</th>\n",
       "      <td>21.0</td>\n",
       "      <td>11.5000</td>\n",
       "      <td>1</td>\n",
       "      <td>21.0</td>\n",
       "      <td>21.0</td>\n",
       "      <td>11.5000</td>\n",
       "      <td>11.500000</td>\n",
       "    </tr>\n",
       "    <tr>\n",
       "      <th>858</th>\n",
       "      <td>24.0</td>\n",
       "      <td>19.2583</td>\n",
       "      <td>3</td>\n",
       "      <td>24.0</td>\n",
       "      <td>24.0</td>\n",
       "      <td>19.2583</td>\n",
       "      <td>19.258300</td>\n",
       "    </tr>\n",
       "    <tr>\n",
       "      <th>62</th>\n",
       "      <td>45.0</td>\n",
       "      <td>83.4750</td>\n",
       "      <td>1</td>\n",
       "      <td>45.0</td>\n",
       "      <td>45.0</td>\n",
       "      <td>83.4750</td>\n",
       "      <td>83.475000</td>\n",
       "    </tr>\n",
       "    <tr>\n",
       "      <th>615</th>\n",
       "      <td>24.0</td>\n",
       "      <td>65.0000</td>\n",
       "      <td>3</td>\n",
       "      <td>24.0</td>\n",
       "      <td>24.0</td>\n",
       "      <td>65.0000</td>\n",
       "      <td>65.000000</td>\n",
       "    </tr>\n",
       "    <tr>\n",
       "      <th>373</th>\n",
       "      <td>22.0</td>\n",
       "      <td>NaN</td>\n",
       "      <td>0</td>\n",
       "      <td>22.0</td>\n",
       "      <td>22.0</td>\n",
       "      <td>14.4000</td>\n",
       "      <td>32.517788</td>\n",
       "    </tr>\n",
       "  </tbody>\n",
       "</table>\n",
       "</div>"
      ],
      "text/plain": [
       "      Age     Fare  Family  Age_median  Age_mean  Fare_median  Fare_mean\n",
       "861  21.0  11.5000       1        21.0      21.0      11.5000  11.500000\n",
       "858  24.0  19.2583       3        24.0      24.0      19.2583  19.258300\n",
       "62   45.0  83.4750       1        45.0      45.0      83.4750  83.475000\n",
       "615  24.0  65.0000       3        24.0      24.0      65.0000  65.000000\n",
       "373  22.0      NaN       0        22.0      22.0      14.4000  32.517788"
      ]
     },
     "execution_count": 14,
     "metadata": {},
     "output_type": "execute_result"
    }
   ],
   "source": [
    "X_train.sample(5)"
   ]
  },
  {
   "cell_type": "code",
   "execution_count": 15,
   "id": "c8cf0d2f",
   "metadata": {},
   "outputs": [
    {
     "name": "stdout",
     "output_type": "stream",
     "text": [
      "Original Age variable variance:  210.2517072477438\n",
      "Age median imputation variance:  169.20731007048096\n",
      "Age mean imputation variance:  168.8519336687225\n",
      "Original Fare variable variance:  2761.031434948639\n",
      "Fare median imputation variance:  2637.01248167777\n",
      "Fare mean imputation variance:  2621.2323749512393\n"
     ]
    }
   ],
   "source": [
    "print(\"Original Age variable variance: \", X_train['Age'].var())\n",
    "print(\"Age median imputation variance: \", X_train['Age_median'].var())\n",
    "print(\"Age mean imputation variance: \", X_train['Age_mean'].var())\n",
    "\n",
    "print(\"Original Fare variable variance: \", X_train['Fare'].var())\n",
    "print(\"Fare median imputation variance: \", X_train['Fare_median'].var())\n",
    "print(\"Fare mean imputation variance: \", X_train['Fare_mean'].var())\n",
    "\n"
   ]
  },
  {
   "cell_type": "code",
   "execution_count": 17,
   "id": "34348ef2",
   "metadata": {},
   "outputs": [
    {
     "data": {
      "text/plain": [
       "<matplotlib.legend.Legend at 0x2561602bdf0>"
      ]
     },
     "execution_count": 17,
     "metadata": {},
     "output_type": "execute_result"
    },
    {
     "data": {
      "image/png": "[encoded data removed]",
      "text/plain": [
       "<Figure size 640x480 with 1 Axes>"
      ]
     },
     "metadata": {},
     "output_type": "display_data"
    }
   ],
   "source": [
    "fig= plt.figure()\n",
    "ax = fig.add_subplot(111)\n",
    "\n",
    "#original variance distribution data\n",
    "X_train['Age'].plot(kind='kde', ax=ax)\n",
    "\n",
    "# variable imputed with the median\n",
    "X_train['Age_median'].plot(kind='kde', ax=ax, color='red')\n",
    "\n",
    "# variable imputed with the mean\n",
    "X_train['Age_mean'].plot(kind='kde', ax=ax, color='lightgreen')\n",
    "\n",
    "\n",
    "#Add legends\n",
    "lines, labels= ax.get_legend_handles_labels()\n",
    "ax.legend(lines, labels, loc='best')"
   ]
  },
  {
   "cell_type": "code",
   "execution_count": 18,
   "id": "6091143f",
   "metadata": {},
   "outputs": [
    {
     "data": {
      "text/plain": [
       "<matplotlib.legend.Legend at 0x25615eda520>"
      ]
     },
     "execution_count": 18,
     "metadata": {},
     "output_type": "execute_result"
    },
    {
     "data": {
      "image/png": "[encoded data removed]",
      "text/plain": [
       "<Figure size 640x480 with 1 Axes>"
      ]
     },
     "metadata": {},
     "output_type": "display_data"
    }
   ],
   "source": [
    "fig= plt.figure()\n",
    "ax = fig.add_subplot(111)\n",
    "\n",
    "#original variance distribution data\n",
    "X_train['Fare'].plot(kind='kde', ax=ax)\n",
    "\n",
    "# variable imputed with the median\n",
    "X_train['Fare_median'].plot(kind='kde', ax=ax, color='red')\n",
    "\n",
    "# variable imputed with the mean\n",
    "X_train['Fare_mean'].plot(kind='kde', ax=ax, color='lightgreen')\n",
    "\n",
    "\n",
    "#Add legends\n",
    "lines, labels= ax.get_legend_handles_labels()\n",
    "ax.legend(lines, labels, loc='best')"
   ]
  },
  {
   "cell_type": "code",
   "execution_count": 19,
   "id": "909eb655",
   "metadata": {},
   "outputs": [
    {
     "data": {
      "text/html": [
       "<div>\n",
       "<style scoped>\n",
       "    .dataframe tbody tr th:only-of-type {\n",
       "        vertical-align: middle;\n",
       "    }\n",
       "\n",
       "    .dataframe tbody tr th {\n",
       "        vertical-align: top;\n",
       "    }\n",
       "\n",
       "    .dataframe thead th {\n",
       "        text-align: right;\n",
       "    }\n",
       "</style>\n",
       "<table border=\"1\" class=\"dataframe\">\n",
       "  <thead>\n",
       "    <tr style=\"text-align: right;\">\n",
       "      <th></th>\n",
       "      <th>Age</th>\n",
       "      <th>Fare</th>\n",
       "      <th>Family</th>\n",
       "      <th>Age_median</th>\n",
       "      <th>Age_mean</th>\n",
       "      <th>Fare_median</th>\n",
       "      <th>Fare_mean</th>\n",
       "    </tr>\n",
       "  </thead>\n",
       "  <tbody>\n",
       "    <tr>\n",
       "      <th>Age</th>\n",
       "      <td>210.251707</td>\n",
       "      <td>75.481375</td>\n",
       "      <td>-6.993325</td>\n",
       "      <td>210.251707</td>\n",
       "      <td>210.251707</td>\n",
       "      <td>70.082085</td>\n",
       "      <td>71.193767</td>\n",
       "    </tr>\n",
       "    <tr>\n",
       "      <th>Fare</th>\n",
       "      <td>75.481375</td>\n",
       "      <td>2761.031435</td>\n",
       "      <td>18.599163</td>\n",
       "      <td>63.938058</td>\n",
       "      <td>60.224654</td>\n",
       "      <td>2761.031435</td>\n",
       "      <td>2761.031435</td>\n",
       "    </tr>\n",
       "    <tr>\n",
       "      <th>Family</th>\n",
       "      <td>-6.993325</td>\n",
       "      <td>18.599163</td>\n",
       "      <td>2.830892</td>\n",
       "      <td>-5.587710</td>\n",
       "      <td>-5.616299</td>\n",
       "      <td>17.672035</td>\n",
       "      <td>17.657433</td>\n",
       "    </tr>\n",
       "    <tr>\n",
       "      <th>Age_median</th>\n",
       "      <td>210.251707</td>\n",
       "      <td>63.938058</td>\n",
       "      <td>-5.587710</td>\n",
       "      <td>169.207310</td>\n",
       "      <td>168.851934</td>\n",
       "      <td>59.728510</td>\n",
       "      <td>60.700688</td>\n",
       "    </tr>\n",
       "    <tr>\n",
       "      <th>Age_mean</th>\n",
       "      <td>210.251707</td>\n",
       "      <td>60.224654</td>\n",
       "      <td>-5.616299</td>\n",
       "      <td>168.851934</td>\n",
       "      <td>168.851934</td>\n",
       "      <td>56.282518</td>\n",
       "      <td>57.175304</td>\n",
       "    </tr>\n",
       "    <tr>\n",
       "      <th>Fare_median</th>\n",
       "      <td>70.082085</td>\n",
       "      <td>2761.031435</td>\n",
       "      <td>17.672035</td>\n",
       "      <td>59.728510</td>\n",
       "      <td>56.282518</td>\n",
       "      <td>2637.012482</td>\n",
       "      <td>2621.232375</td>\n",
       "    </tr>\n",
       "    <tr>\n",
       "      <th>Fare_mean</th>\n",
       "      <td>71.193767</td>\n",
       "      <td>2761.031435</td>\n",
       "      <td>17.657433</td>\n",
       "      <td>60.700688</td>\n",
       "      <td>57.175304</td>\n",
       "      <td>2621.232375</td>\n",
       "      <td>2621.232375</td>\n",
       "    </tr>\n",
       "  </tbody>\n",
       "</table>\n",
       "</div>"
      ],
      "text/plain": [
       "                    Age         Fare     Family  Age_median    Age_mean  \\\n",
       "Age          210.251707    75.481375  -6.993325  210.251707  210.251707   \n",
       "Fare          75.481375  2761.031435  18.599163   63.938058   60.224654   \n",
       "Family        -6.993325    18.599163   2.830892   -5.587710   -5.616299   \n",
       "Age_median   210.251707    63.938058  -5.587710  169.207310  168.851934   \n",
       "Age_mean     210.251707    60.224654  -5.616299  168.851934  168.851934   \n",
       "Fare_median   70.082085  2761.031435  17.672035   59.728510   56.282518   \n",
       "Fare_mean     71.193767  2761.031435  17.657433   60.700688   57.175304   \n",
       "\n",
       "             Fare_median    Fare_mean  \n",
       "Age            70.082085    71.193767  \n",
       "Fare         2761.031435  2761.031435  \n",
       "Family         17.672035    17.657433  \n",
       "Age_median     59.728510    60.700688  \n",
       "Age_mean       56.282518    57.175304  \n",
       "Fare_median  2637.012482  2621.232375  \n",
       "Fare_mean    2621.232375  2621.232375  "
      ]
     },
     "execution_count": 19,
     "metadata": {},
     "output_type": "execute_result"
    }
   ],
   "source": [
    "X_train.cov()"
   ]
  },
  {
   "cell_type": "code",
   "execution_count": 20,
   "id": "e6e1ba0d",
   "metadata": {},
   "outputs": [
    {
     "data": {
      "text/html": [
       "<div>\n",
       "<style scoped>\n",
       "    .dataframe tbody tr th:only-of-type {\n",
       "        vertical-align: middle;\n",
       "    }\n",
       "\n",
       "    .dataframe tbody tr th {\n",
       "        vertical-align: top;\n",
       "    }\n",
       "\n",
       "    .dataframe thead th {\n",
       "        text-align: right;\n",
       "    }\n",
       "</style>\n",
       "<table border=\"1\" class=\"dataframe\">\n",
       "  <thead>\n",
       "    <tr style=\"text-align: right;\">\n",
       "      <th></th>\n",
       "      <th>Age</th>\n",
       "      <th>Fare</th>\n",
       "      <th>Family</th>\n",
       "      <th>Age_median</th>\n",
       "      <th>Age_mean</th>\n",
       "      <th>Fare_median</th>\n",
       "      <th>Fare_mean</th>\n",
       "    </tr>\n",
       "  </thead>\n",
       "  <tbody>\n",
       "    <tr>\n",
       "      <th>Age</th>\n",
       "      <td>1.000000</td>\n",
       "      <td>0.091482</td>\n",
       "      <td>-0.319651</td>\n",
       "      <td>1.000000</td>\n",
       "      <td>1.000000</td>\n",
       "      <td>0.087232</td>\n",
       "      <td>0.088944</td>\n",
       "    </tr>\n",
       "    <tr>\n",
       "      <th>Fare</th>\n",
       "      <td>0.091482</td>\n",
       "      <td>1.000000</td>\n",
       "      <td>0.207193</td>\n",
       "      <td>0.093496</td>\n",
       "      <td>0.088151</td>\n",
       "      <td>1.000000</td>\n",
       "      <td>1.000000</td>\n",
       "    </tr>\n",
       "    <tr>\n",
       "      <th>Family</th>\n",
       "      <td>-0.319651</td>\n",
       "      <td>0.207193</td>\n",
       "      <td>1.000000</td>\n",
       "      <td>-0.255307</td>\n",
       "      <td>-0.256883</td>\n",
       "      <td>0.204536</td>\n",
       "      <td>0.204981</td>\n",
       "    </tr>\n",
       "    <tr>\n",
       "      <th>Age_median</th>\n",
       "      <td>1.000000</td>\n",
       "      <td>0.093496</td>\n",
       "      <td>-0.255307</td>\n",
       "      <td>1.000000</td>\n",
       "      <td>0.998949</td>\n",
       "      <td>0.089416</td>\n",
       "      <td>0.091145</td>\n",
       "    </tr>\n",
       "    <tr>\n",
       "      <th>Age_mean</th>\n",
       "      <td>1.000000</td>\n",
       "      <td>0.088151</td>\n",
       "      <td>-0.256883</td>\n",
       "      <td>0.998949</td>\n",
       "      <td>1.000000</td>\n",
       "      <td>0.084346</td>\n",
       "      <td>0.085941</td>\n",
       "    </tr>\n",
       "    <tr>\n",
       "      <th>Fare_median</th>\n",
       "      <td>0.087232</td>\n",
       "      <td>1.000000</td>\n",
       "      <td>0.204536</td>\n",
       "      <td>0.089416</td>\n",
       "      <td>0.084346</td>\n",
       "      <td>1.000000</td>\n",
       "      <td>0.997003</td>\n",
       "    </tr>\n",
       "    <tr>\n",
       "      <th>Fare_mean</th>\n",
       "      <td>0.088944</td>\n",
       "      <td>1.000000</td>\n",
       "      <td>0.204981</td>\n",
       "      <td>0.091145</td>\n",
       "      <td>0.085941</td>\n",
       "      <td>0.997003</td>\n",
       "      <td>1.000000</td>\n",
       "    </tr>\n",
       "  </tbody>\n",
       "</table>\n",
       "</div>"
      ],
      "text/plain": [
       "                  Age      Fare    Family  Age_median  Age_mean  Fare_median  \\\n",
       "Age          1.000000  0.091482 -0.319651    1.000000  1.000000     0.087232   \n",
       "Fare         0.091482  1.000000  0.207193    0.093496  0.088151     1.000000   \n",
       "Family      -0.319651  0.207193  1.000000   -0.255307 -0.256883     0.204536   \n",
       "Age_median   1.000000  0.093496 -0.255307    1.000000  0.998949     0.089416   \n",
       "Age_mean     1.000000  0.088151 -0.256883    0.998949  1.000000     0.084346   \n",
       "Fare_median  0.087232  1.000000  0.204536    0.089416  0.084346     1.000000   \n",
       "Fare_mean    0.088944  1.000000  0.204981    0.091145  0.085941     0.997003   \n",
       "\n",
       "             Fare_mean  \n",
       "Age           0.088944  \n",
       "Fare          1.000000  \n",
       "Family        0.204981  \n",
       "Age_median    0.091145  \n",
       "Age_mean      0.085941  \n",
       "Fare_median   0.997003  \n",
       "Fare_mean     1.000000  "
      ]
     },
     "execution_count": 20,
     "metadata": {},
     "output_type": "execute_result"
    }
   ],
   "source": [
    "X_train.corr()"
   ]
  },
  {
   "cell_type": "code",
   "execution_count": 21,
   "id": "763fbee9",
   "metadata": {},
   "outputs": [
    {
     "data": {
      "text/plain": [
       "<AxesSubplot:>"
      ]
     },
     "execution_count": 21,
     "metadata": {},
     "output_type": "execute_result"
    },
    {
     "data": {
      "image/png": "[encoded data removed]",
      "text/plain": [
       "<Figure size 640x480 with 1 Axes>"
      ]
     },
     "metadata": {},
     "output_type": "display_data"
    }
   ],
   "source": [
    "X_train[['Age', 'Age_median', 'Age_mean']].boxplot()"
   ]
  },
  {
   "cell_type": "code",
   "execution_count": 22,
   "id": "2a12b6f0",
   "metadata": {},
   "outputs": [
    {
     "data": {
      "text/plain": [
       "<AxesSubplot:>"
      ]
     },
     "execution_count": 22,
     "metadata": {},
     "output_type": "execute_result"
    },
    {
     "data": {
      "image/png": "[encoded data removed]",
      "text/plain": [
       "<Figure size 640x480 with 1 Axes>"
      ]
     },
     "metadata": {},
     "output_type": "display_data"
    }
   ],
   "source": [
    "X_train[['Fare', 'Fare_median', 'Fare_mean']].boxplot()"
   ]
  },
  {
   "cell_type": "markdown",
   "id": "1f45a948",
   "metadata": {},
   "source": [
    "# Using sklearn "
   ]
  },
  {
   "cell_type": "code",
   "execution_count": 23,
   "id": "6bba1e8b",
   "metadata": {},
   "outputs": [],
   "source": [
    "X_train, X_test, y_train, y_test= train_test_split(X,y,test_size=0.2, random_state=2)"
   ]
  },
  {
   "cell_type": "code",
   "execution_count": 24,
   "id": "a37f70cd",
   "metadata": {},
   "outputs": [],
   "source": [
    "imputer1= SimpleImputer(strategy= 'median')\n",
    "imputer2= SimpleImputer(strategy= 'mean')"
   ]
  },
  {
   "cell_type": "code",
   "execution_count": 25,
   "id": "fe1e0d75",
   "metadata": {},
   "outputs": [],
   "source": [
    "trf = ColumnTransformer([\n",
    "    ('imputer1', imputer1, ['Age']),\n",
    "    ('imputer2', imputer2, ['Fare'])\n",
    "], remainder='passthrough')"
   ]
  },
  {
   "cell_type": "code",
   "execution_count": 26,
   "id": "621cd021",
   "metadata": {},
   "outputs": [
    {
     "data": {
      "text/plain": [
       "ColumnTransformer(remainder='passthrough',\n",
       "                  transformers=[('imputer1', SimpleImputer(strategy='median'),\n",
       "                                 ['Age']),\n",
       "                                ('imputer2', SimpleImputer(), ['Fare'])])"
      ]
     },
     "execution_count": 26,
     "metadata": {},
     "output_type": "execute_result"
    }
   ],
   "source": [
    "trf.fit(X_train)"
   ]
  },
  {
   "cell_type": "code",
   "execution_count": 27,
   "id": "cc4352d9",
   "metadata": {},
   "outputs": [
    {
     "data": {
      "text/plain": [
       "array([28.75])"
      ]
     },
     "execution_count": 27,
     "metadata": {},
     "output_type": "execute_result"
    }
   ],
   "source": [
    "trf.named_transformers_['imputer1'].statistics_"
   ]
  },
  {
   "cell_type": "code",
   "execution_count": 28,
   "id": "bb2639bd",
   "metadata": {},
   "outputs": [
    {
     "data": {
      "text/plain": [
       "array([32.61759689])"
      ]
     },
     "execution_count": 28,
     "metadata": {},
     "output_type": "execute_result"
    }
   ],
   "source": [
    "trf.named_transformers_['imputer2'].statistics_"
   ]
  },
  {
   "cell_type": "code",
   "execution_count": 30,
   "id": "6017d8c5",
   "metadata": {},
   "outputs": [],
   "source": [
    "X_train = trf.transform(X_train)\n",
    "X_test= trf.transform(X_test)"
   ]
  },
  {
   "cell_type": "code",
   "execution_count": 31,
   "id": "3aa4a191",
   "metadata": {},
   "outputs": [
    {
     "data": {
      "text/plain": [
       "array([[ 40.    ,  27.7208,   0.    ],\n",
       "       [  4.    ,  16.7   ,   2.    ],\n",
       "       [ 47.    ,   9.    ,   0.    ],\n",
       "       ...,\n",
       "       [ 71.    ,  49.5042,   0.    ],\n",
       "       [ 28.75  , 221.7792,   0.    ],\n",
       "       [ 28.75  ,  25.925 ,   0.    ]])"
      ]
     },
     "execution_count": 31,
     "metadata": {},
     "output_type": "execute_result"
    }
   ],
   "source": [
    "X_train"
   ]
  },
  {
   "cell_type": "code",
   "execution_count": 32,
   "id": "accdc0ee",
   "metadata": {},
   "outputs": [
    {
     "data": {
      "text/plain": [
       "array([[ 42.        ,  26.2875    ,   0.        ],\n",
       "       [ 21.        ,   8.05      ,   0.        ],\n",
       "       [ 24.        ,  65.        ,   3.        ],\n",
       "       [ 28.        ,  56.4958    ,   0.        ],\n",
       "       [ 17.        ,   7.925     ,   6.        ],\n",
       "       [ 30.        ,   7.8958    ,   0.        ],\n",
       "       [ 80.        ,  30.        ,   0.        ],\n",
       "       [ 25.        ,   7.25      ,   0.        ],\n",
       "       [ 50.        , 133.65      ,   2.        ],\n",
       "       [ 25.        ,  26.        ,   1.        ],\n",
       "       [ 35.        ,  26.        ,   0.        ],\n",
       "       [ 35.        ,  90.        ,   1.        ],\n",
       "       [ 55.        ,  16.        ,   0.        ],\n",
       "       [ 28.75      ,  56.4958    ,   0.        ],\n",
       "       [ 28.75      ,  56.4958    ,   0.        ],\n",
       "       [ 19.        ,   7.8542    ,   1.        ],\n",
       "       [ 28.75      ,  15.2458    ,   2.        ],\n",
       "       [ 49.        ,   0.        ,   0.        ],\n",
       "       [ 18.        ,  32.61759689,   1.        ],\n",
       "       [ 65.        ,   7.75      ,   0.        ],\n",
       "       [ 18.        , 108.9       ,   1.        ],\n",
       "       [ 28.75      ,  22.3583    ,   2.        ],\n",
       "       [ 16.        ,  18.        ,   2.        ],\n",
       "       [ 21.        ,   9.825     ,   1.        ],\n",
       "       [ 19.        ,   6.75      ,   0.        ],\n",
       "       [  1.        ,  11.1333    ,   2.        ],\n",
       "       [ 50.        ,  10.5       ,   0.        ],\n",
       "       [ 37.        ,  53.1       ,   1.        ],\n",
       "       [ 28.        ,  32.61759689,   0.        ],\n",
       "       [ 54.        ,  14.        ,   0.        ],\n",
       "       [ 20.        ,   7.925     ,   0.        ],\n",
       "       [ 36.        ,   0.        ,   0.        ],\n",
       "       [  6.        ,  31.275     ,   6.        ],\n",
       "       [ 28.75      ,  50.        ,   0.        ],\n",
       "       [ 40.        ,  31.        ,   0.        ],\n",
       "       [ 26.        ,  16.1       ,   1.        ],\n",
       "       [ 30.        ,  32.61759689,   0.        ],\n",
       "       [  1.        ,  46.9       ,   7.        ],\n",
       "       [ 28.75      ,   7.8958    ,   0.        ],\n",
       "       [ 35.        ,  10.5       ,   0.        ],\n",
       "       [ 38.        ,   7.05      ,   0.        ],\n",
       "       [ 44.        ,  16.1       ,   1.        ],\n",
       "       [ 22.        ,   7.75      ,   0.        ],\n",
       "       [ 18.        ,   6.4958    ,   1.        ],\n",
       "       [ 21.        ,   8.4333    ,   0.        ],\n",
       "       [ 28.75      , 227.525     ,   0.        ],\n",
       "       [ 21.        ,  77.9583    ,   0.        ],\n",
       "       [ 28.75      ,   8.6625    ,   0.        ],\n",
       "       [ 22.        ,   7.225     ,   0.        ],\n",
       "       [ 27.        ,  10.5       ,   0.        ],\n",
       "       [ 28.75      ,   8.05      ,   0.        ],\n",
       "       [ 51.        ,  26.55      ,   0.        ],\n",
       "       [ 28.        ,  33.        ,   1.        ],\n",
       "       [ 47.        ,  38.5       ,   0.        ],\n",
       "       [ 32.        ,  10.5       ,   0.        ],\n",
       "       [ 48.        ,  52.        ,   1.        ],\n",
       "       [ 10.        ,  24.15      ,   2.        ],\n",
       "       [ 21.        ,   8.6625    ,   0.        ],\n",
       "       [ 51.        ,   7.0542    ,   0.        ],\n",
       "       [ 32.        ,   7.925     ,   0.        ],\n",
       "       [ 42.        ,  13.        ,   0.        ],\n",
       "       [  2.        ,  26.        ,   2.        ],\n",
       "       [ 35.        ,   8.05      ,   0.        ],\n",
       "       [ 28.75      ,   7.25      ,   0.        ],\n",
       "       [  2.        ,  10.4625    ,   1.        ],\n",
       "       [ 33.        ,   9.5       ,   0.        ],\n",
       "       [ 48.        ,  25.9292    ,   0.        ],\n",
       "       [ 55.        ,  30.5       ,   0.        ],\n",
       "       [  1.        ,  39.6875    ,   5.        ],\n",
       "       [ 17.        ,   7.0542    ,   1.        ],\n",
       "       [ 24.        ,  15.85      ,   1.        ],\n",
       "       [ 74.        ,   7.775     ,   0.        ],\n",
       "       [ 28.75      ,  24.15      ,   1.        ],\n",
       "       [ 28.        ,   7.7958    ,   0.        ],\n",
       "       [ 26.        ,   7.8542    ,   0.        ],\n",
       "       [  1.        ,  39.        ,   3.        ],\n",
       "       [ 18.        ,   8.05      ,   0.        ],\n",
       "       [  3.        ,  26.        ,   2.        ],\n",
       "       [ 48.        ,  39.6       ,   1.        ],\n",
       "       [ 32.        ,  56.4958    ,   0.        ],\n",
       "       [ 19.        ,  91.0792    ,   1.        ],\n",
       "       [ 28.75      ,  42.4       ,   0.        ],\n",
       "       [ 70.        ,  10.5       ,   0.        ],\n",
       "       [ 34.        ,  26.        ,   1.        ],\n",
       "       [ 39.        , 110.8833    ,   2.        ],\n",
       "       [ 17.        ,  10.5       ,   0.        ],\n",
       "       [ 38.        ,   8.6625    ,   0.        ],\n",
       "       [ 28.75      ,   7.8958    ,   0.        ],\n",
       "       [ 30.        ,  21.        ,   3.        ],\n",
       "       [ 28.        ,  13.        ,   0.        ],\n",
       "       [ 28.75      ,   7.725     ,   0.        ],\n",
       "       [ 19.        ,   8.1583    ,   0.        ],\n",
       "       [ 29.        ,   7.75      ,   0.        ],\n",
       "       [ 28.75      ,   7.8958    ,   0.        ],\n",
       "       [ 44.        ,   7.925     ,   0.        ],\n",
       "       [ 22.        ,  41.5792    ,   3.        ],\n",
       "       [ 21.        ,  34.375     ,   4.        ],\n",
       "       [ 41.        ,  19.5       ,   1.        ],\n",
       "       [ 28.75      ,   7.225     ,   0.        ],\n",
       "       [ 25.        ,  55.4417    ,   1.        ],\n",
       "       [  0.92      ,  32.61759689,   3.        ],\n",
       "       [ 44.        ,  26.        ,   1.        ],\n",
       "       [ 19.        ,  26.        ,   0.        ],\n",
       "       [ 30.        ,  56.9292    ,   0.        ],\n",
       "       [ 20.        ,   9.5       ,   0.        ],\n",
       "       [  5.        ,  12.475     ,   0.        ],\n",
       "       [  4.        ,  39.        ,   3.        ],\n",
       "       [ 28.75      ,  16.1       ,   1.        ],\n",
       "       [ 38.        ,   0.        ,   0.        ],\n",
       "       [ 28.        ,  22.525     ,   0.        ],\n",
       "       [ 28.75      ,  30.        ,   0.        ],\n",
       "       [ 29.        ,   7.775     ,   0.        ],\n",
       "       [ 49.        ,  89.1042    ,   1.        ],\n",
       "       [ 19.        ,  14.5       ,   0.        ],\n",
       "       [ 18.        , 262.375     ,   4.        ],\n",
       "       [ 31.        ,  26.25      ,   2.        ],\n",
       "       [ 27.        ,   7.7958    ,   0.        ],\n",
       "       [ 36.        ,  32.61759689,   3.        ],\n",
       "       [  8.        ,  36.75      ,   2.        ],\n",
       "       [  2.        ,  21.075     ,   4.        ],\n",
       "       [ 63.        ,  77.9583    ,   1.        ],\n",
       "       [ 31.        ,   7.75      ,   0.        ],\n",
       "       [ 28.75      ,   0.        ,   0.        ],\n",
       "       [ 25.        ,  13.        ,   0.        ],\n",
       "       [ 20.5       ,   7.25      ,   0.        ],\n",
       "       [ 28.75      ,   7.8958    ,   0.        ],\n",
       "       [ 64.        , 263.        ,   5.        ],\n",
       "       [ 19.        ,  26.        ,   1.        ],\n",
       "       [ 18.        ,   7.775     ,   0.        ],\n",
       "       [ 28.75      ,   0.        ,   0.        ],\n",
       "       [ 28.75      ,   7.8958    ,   0.        ],\n",
       "       [ 11.        ,  18.7875    ,   0.        ],\n",
       "       [ 15.        ,  14.4542    ,   1.        ],\n",
       "       [ 22.        ,  55.        ,   1.        ],\n",
       "       [ 50.        ,  13.        ,   0.        ],\n",
       "       [ 28.        ,  14.4       ,   2.        ],\n",
       "       [ 39.        ,  13.        ,   0.        ],\n",
       "       [ 28.75      ,   8.05      ,   0.        ],\n",
       "       [ 39.        ,  32.61759689,   0.        ],\n",
       "       [ 24.        ,  16.1       ,   1.        ],\n",
       "       [ 23.        ,  32.61759689,   0.        ],\n",
       "       [ 17.        ,  57.        ,   1.        ],\n",
       "       [ 44.        ,  26.        ,   1.        ],\n",
       "       [ 23.        ,  13.7917    ,   0.        ],\n",
       "       [ 28.75      ,  26.55      ,   0.        ],\n",
       "       [ 52.        ,  78.2667    ,   1.        ],\n",
       "       [ 24.5       ,   8.05      ,   0.        ],\n",
       "       [ 55.5       ,   8.05      ,   0.        ],\n",
       "       [ 18.        ,   7.7958    ,   0.        ],\n",
       "       [ 18.        ,  13.        ,   2.        ],\n",
       "       [ 45.        ,  83.475     ,   1.        ],\n",
       "       [ 31.        ,  18.        ,   1.        ],\n",
       "       [ 30.5       ,   8.05      ,   0.        ],\n",
       "       [ 42.        ,   8.4042    ,   1.        ],\n",
       "       [ 28.75      ,   7.75      ,   0.        ],\n",
       "       [ 36.        ,   7.4958    ,   0.        ],\n",
       "       [ 34.        ,  26.55      ,   0.        ],\n",
       "       [ 54.        ,  78.2667    ,   1.        ],\n",
       "       [ 15.        ,   8.0292    ,   0.        ],\n",
       "       [ 25.        ,   7.775     ,   1.        ],\n",
       "       [ 26.        ,  32.61759689,   0.        ],\n",
       "       [ 28.75      ,   8.1125    ,   0.        ],\n",
       "       [ 19.        ,   8.05      ,   0.        ],\n",
       "       [ 29.        ,   7.8958    ,   0.        ],\n",
       "       [ 19.        ,  30.        ,   0.        ],\n",
       "       [ 33.        ,  90.        ,   1.        ],\n",
       "       [ 36.        ,  24.15      ,   2.        ],\n",
       "       [ 28.75      ,   7.775     ,   0.        ],\n",
       "       [ 35.        , 512.3292    ,   0.        ],\n",
       "       [ 22.        ,   7.25      ,   0.        ],\n",
       "       [ 28.75      ,  16.1       ,   1.        ],\n",
       "       [ 18.        ,   7.4958    ,   0.        ],\n",
       "       [ 28.        ,  26.        ,   1.        ],\n",
       "       [ 22.        ,   7.25      ,   0.        ],\n",
       "       [ 24.        ,   8.05      ,   0.        ],\n",
       "       [ 22.        ,   9.        ,   0.        ],\n",
       "       [ 28.75      ,  69.55      ,  10.        ],\n",
       "       [ 26.        ,   7.8958    ,   0.        ],\n",
       "       [ 29.        ,  32.61759689,   2.        ]])"
      ]
     },
     "execution_count": 32,
     "metadata": {},
     "output_type": "execute_result"
    }
   ],
   "source": [
    "X_test"
   ]
  },
  {
   "cell_type": "code",
   "execution_count": null,
   "id": "1faea2b3",
   "metadata": {},
   "outputs": [],
   "source": []
  }
 ],
 "metadata": {
  "kernelspec": {
   "display_name": "Python 3 (ipykernel)",
   "language": "python",
   "name": "python3"
  },
  "language_info": {
   "codemirror_mode": {
    "name": "ipython",
    "version": 3
   },
   "file_extension": ".py",
   "mimetype": "text/x-python",
   "name": "python",
   "nbconvert_exporter": "python",
   "pygments_lexer": "ipython3",
   "version": "3.9.13"
  }
 },
 "nbformat": 4,
 "nbformat_minor": 5
}
