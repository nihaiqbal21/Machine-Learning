{
 "cells": [
  {
   "cell_type": "code",
   "execution_count": 80,
   "id": "888a6a92",
   "metadata": {},
   "outputs": [],
   "source": [
    "import requests\n",
    "import pandas as pd"
   ]
  },
  {
   "cell_type": "code",
   "execution_count": 81,
   "id": "f3217210",
   "metadata": {},
   "outputs": [
    {
     "data": {
      "text/html": [
       "<div>\n",
       "<style scoped>\n",
       "    .dataframe tbody tr th:only-of-type {\n",
       "        vertical-align: middle;\n",
       "    }\n",
       "\n",
       "    .dataframe tbody tr th {\n",
       "        vertical-align: top;\n",
       "    }\n",
       "\n",
       "    .dataframe thead th {\n",
       "        text-align: right;\n",
       "    }\n",
       "</style>\n",
       "<table border=\"1\" class=\"dataframe\">\n",
       "  <thead>\n",
       "    <tr style=\"text-align: right;\">\n",
       "      <th></th>\n",
       "    </tr>\n",
       "  </thead>\n",
       "  <tbody>\n",
       "  </tbody>\n",
       "</table>\n",
       "</div>"
      ],
      "text/plain": [
       "Empty DataFrame\n",
       "Columns: []\n",
       "Index: []"
      ]
     },
     "execution_count": 81,
     "metadata": {},
     "output_type": "execute_result"
    }
   ],
   "source": [
    "df=pd.DataFrame()\n",
    "df"
   ]
  },
  {
   "cell_type": "code",
   "execution_count": 91,
   "id": "6be8a03a",
   "metadata": {},
   "outputs": [
    {
     "name": "stdout",
     "output_type": "stream",
     "text": [
      "[{'id': '43af03017d9f4bee8f8da76e39be5633', 'sport_key': 'baseball_ncaa', 'sport_title': 'NCAA Baseball', 'commence_time': '2023-05-25T14:00:00Z', 'home_team': 'Appalachian St Mountaineers', 'away_team': 'James Madison Dukes', 'bookmakers': [{'key': 'fanduel', 'title': 'FanDuel', 'last_update': '2023-05-25T14:49:40Z', 'markets': [{'key': 'h2h', 'last_update': '2023-05-25T14:49:40Z', 'outcomes': [{'name': 'Appalachian St Mountaineers', 'price': 1.78}, {'name': 'James Madison Dukes', 'price': 1.96}]}]}]}, {'id': '21c85a1c9e0f052782b130107d81b19f', 'sport_key': 'baseball_ncaa', 'sport_title': 'NCAA Baseball', 'commence_time': '2023-05-25T14:00:00Z', 'home_team': 'UTSA Roadrunners', 'away_team': 'Charlotte 49ers', 'bookmakers': [{'key': 'fanduel', 'title': 'FanDuel', 'last_update': '2023-05-25T14:49:40Z', 'markets': [{'key': 'h2h', 'last_update': '2023-05-25T14:49:40Z', 'outcomes': [{'name': 'Charlotte 49ers', 'price': 1.29}, {'name': 'UTSA Roadrunners', 'price': 3.35}]}]}]}, {'id': 'f2be4f788ed8f4189be4f125c147c9d6', 'sport_key': 'baseball_ncaa', 'sport_title': 'NCAA Baseball', 'commence_time': '2023-05-25T14:00:00Z', 'home_team': 'Texas Longhorns', 'away_team': 'Kansas St Wildcats', 'bookmakers': [{'key': 'mybookieag', 'title': 'MyBookie.ag', 'last_update': '2023-05-25T14:48:48Z', 'markets': [{'key': 'h2h', 'last_update': '2023-05-25T14:48:48Z', 'outcomes': [{'name': 'Kansas St Wildcats', 'price': 2.25}, {'name': 'Texas Longhorns', 'price': 1.57}]}, {'key': 'spreads', 'last_update': '2023-05-25T14:48:48Z', 'outcomes': [{'name': 'Kansas St Wildcats', 'price': 1.57, 'point': 1.5}, {'name': 'Texas Longhorns', 'price': 2.25, 'point': -1.5}]}]}, {'key': 'fanduel', 'title': 'FanDuel', 'last_update': '2023-05-25T14:46:11Z', 'markets': [{'key': 'h2h', 'last_update': '2023-05-25T14:46:11Z', 'outcomes': [{'name': 'Kansas St Wildcats', 'price': 2.26}, {'name': 'Texas Longhorns', 'price': 1.6}]}]}]}, {'id': '3287bb561fcb43318ca850f21bec967b', 'sport_key': 'baseball_ncaa', 'sport_title': 'NCAA Baseball', 'commence_time': '2023-05-25T14:30:00Z', 'home_team': 'Texas A&M Aggies', 'away_team': 'South Carolina Gamecocks', 'bookmakers': [{'key': 'mybookieag', 'title': 'MyBookie.ag', 'last_update': '2023-05-25T14:48:48Z', 'markets': [{'key': 'h2h', 'last_update': '2023-05-25T14:48:48Z', 'outcomes': [{'name': 'South Carolina Gamecocks', 'price': 1.8}, {'name': 'Texas A&M Aggies', 'price': 1.9}]}, {'key': 'spreads', 'last_update': '2023-05-25T14:48:48Z', 'outcomes': [{'name': 'South Carolina Gamecocks', 'price': 2.2, 'point': -1.5}, {'name': 'Texas A&M Aggies', 'price': 1.6, 'point': 1.5}]}]}, {'key': 'fanduel', 'title': 'FanDuel', 'last_update': '2023-05-25T14:49:40Z', 'markets': [{'key': 'h2h', 'last_update': '2023-05-25T14:49:40Z', 'outcomes': [{'name': 'South Carolina Gamecocks', 'price': 1.85}, {'name': 'Texas A&M Aggies', 'price': 1.89}]}]}]}, {'id': '728b2e43019df33fea7fad5e06c25c33', 'sport_key': 'baseball_ncaa', 'sport_title': 'NCAA Baseball', 'commence_time': '2023-05-25T15:00:00Z', 'home_team': 'Wake Forest Demon Deacons', 'away_team': 'Pittsburgh Panthers', 'bookmakers': [{'key': 'draftkings', 'title': 'DraftKings', 'last_update': '2023-05-25T14:49:24Z', 'markets': [{'key': 'h2h', 'last_update': '2023-05-25T14:49:24Z', 'outcomes': [{'name': 'Pittsburgh Panthers', 'price': 3.85}, {'name': 'Wake Forest Demon Deacons', 'price': 1.27}]}]}, {'key': 'lowvig', 'title': 'LowVig.ag', 'last_update': '2023-05-25T14:49:00Z', 'markets': [{'key': 'h2h', 'last_update': '2023-05-25T14:49:00Z', 'outcomes': [{'name': 'Pittsburgh Panthers', 'price': 4.0}, {'name': 'Wake Forest Demon Deacons', 'price': 1.25}]}]}, {'key': 'betonlineag', 'title': 'BetOnline.ag', 'last_update': '2023-05-25T14:49:28Z', 'markets': [{'key': 'h2h', 'last_update': '2023-05-25T14:49:28Z', 'outcomes': [{'name': 'Pittsburgh Panthers', 'price': 4.0}, {'name': 'Wake Forest Demon Deacons', 'price': 1.25}]}]}, {'key': 'sugarhouse', 'title': 'SugarHouse', 'last_update': '2023-05-25T14:49:14Z', 'markets': [{'key': 'h2h', 'last_update': '2023-05-25T14:49:14Z', 'outcomes': [{'name': 'Pittsburgh Panthers', 'price': 3.8}, {'name': 'Wake Forest Demon Deacons', 'price': 1.25}]}]}, {'key': 'barstool', 'title': 'Barstool Sportsbook', 'last_update': '2023-05-25T14:49:16Z', 'markets': [{'key': 'h2h', 'last_update': '2023-05-25T14:49:16Z', 'outcomes': [{'name': 'Pittsburgh Panthers', 'price': 3.8}, {'name': 'Wake Forest Demon Deacons', 'price': 1.25}]}]}, {'key': 'twinspires', 'title': 'TwinSpires', 'last_update': '2023-05-25T14:49:28Z', 'markets': [{'key': 'h2h', 'last_update': '2023-05-25T14:49:28Z', 'outcomes': [{'name': 'Pittsburgh Panthers', 'price': 3.8}, {'name': 'Wake Forest Demon Deacons', 'price': 1.25}]}]}, {'key': 'betrivers', 'title': 'BetRivers', 'last_update': '2023-05-25T14:49:06Z', 'markets': [{'key': 'h2h', 'last_update': '2023-05-25T14:49:06Z', 'outcomes': [{'name': 'Pittsburgh Panthers', 'price': 3.8}, {'name': 'Wake Forest Demon Deacons', 'price': 1.25}]}]}, {'key': 'unibet_us', 'title': 'Unibet', 'last_update': '2023-05-25T14:49:14Z', 'markets': [{'key': 'h2h', 'last_update': '2023-05-25T14:49:14Z', 'outcomes': [{'name': 'Pittsburgh Panthers', 'price': 3.8}, {'name': 'Wake Forest Demon Deacons', 'price': 1.25}]}]}, {'key': 'mybookieag', 'title': 'MyBookie.ag', 'last_update': '2023-05-25T14:49:21Z', 'markets': [{'key': 'h2h', 'last_update': '2023-05-25T14:49:21Z', 'outcomes': [{'name': 'Pittsburgh Panthers', 'price': 3.6}, {'name': 'Wake Forest Demon Deacons', 'price': 1.24}]}, {'key': 'spreads', 'last_update': '2023-05-25T14:49:21Z', 'outcomes': [{'name': 'Pittsburgh Panthers', 'price': 1.88, 'point': 3.5}, {'name': 'Wake Forest Demon Deacons', 'price': 1.83, 'point': -3.5}]}]}, {'key': 'bovada', 'title': 'Bovada', 'last_update': '2023-05-25T14:49:21Z', 'markets': [{'key': 'h2h', 'last_update': '2023-05-25T14:49:20Z', 'outcomes': [{'name': 'Pittsburgh Panthers', 'price': 3.7}, {'name': 'Wake Forest Demon Deacons', 'price': 1.26}]}]}, {'key': 'fanduel', 'title': 'FanDuel', 'last_update': '2023-05-25T14:49:40Z', 'markets': [{'key': 'h2h', 'last_update': '2023-05-25T14:49:40Z', 'outcomes': [{'name': 'Pittsburgh Panthers', 'price': 4.1}, {'name': 'Wake Forest Demon Deacons', 'price': 1.23}]}]}, {'key': 'betus', 'title': 'BetUS', 'last_update': '2023-05-25T14:49:22Z', 'markets': [{'key': 'h2h', 'last_update': '2023-05-25T14:49:22Z', 'outcomes': [{'name': 'Pittsburgh Panthers', 'price': 3.75}, {'name': 'Wake Forest Demon Deacons', 'price': 1.27}]}]}, {'key': 'williamhill_us', 'title': 'William Hill (US)', 'last_update': '2023-05-25T14:49:38Z', 'markets': [{'key': 'h2h', 'last_update': '2023-05-25T14:49:38Z', 'outcomes': [{'name': 'Pittsburgh Panthers', 'price': 4.0}, {'name': 'Wake Forest Demon Deacons', 'price': 1.25}]}]}, {'key': 'betmgm', 'title': 'BetMGM', 'last_update': '2023-05-25T14:49:04Z', 'markets': [{'key': 'h2h', 'last_update': '2023-05-25T14:49:04Z', 'outcomes': [{'name': 'Pittsburgh Panthers', 'price': 3.8}, {'name': 'Wake Forest Demon Deacons', 'price': 1.25}]}]}]}, {'id': 'd9366f4e7bd7c990d8770eb3086fb123', 'sport_key': 'baseball_mlb', 'sport_title': 'MLB', 'commence_time': '2023-05-25T16:35:00Z', 'home_team': 'Cincinnati Reds', 'away_team': 'St. Louis Cardinals', 'bookmakers': [{'key': 'draftkings', 'title': 'DraftKings', 'last_update': '2023-05-25T14:49:34Z', 'markets': [{'key': 'h2h', 'last_update': '2023-05-25T14:49:34Z', 'outcomes': [{'name': 'Cincinnati Reds', 'price': 2.0}, {'name': 'St. Louis Cardinals', 'price': 1.83}]}, {'key': 'spreads', 'last_update': '2023-05-25T14:49:34Z', 'outcomes': [{'name': 'Cincinnati Reds', 'price': 1.69, 'point': 1.5}, {'name': 'St. Louis Cardinals', 'price': 2.25, 'point': -1.5}]}]}, {'key': 'betus', 'title': 'BetUS', 'last_update': '2023-05-25T14:49:14Z', 'markets': [{'key': 'h2h', 'last_update': '2023-05-25T14:49:14Z', 'outcomes': [{'name': 'Cincinnati Reds', 'price': 2.14}, {'name': 'St. Louis Cardinals', 'price': 1.81}]}, {'key': 'spreads', 'last_update': '2023-05-25T14:49:14Z', 'outcomes': [{'name': 'Cincinnati Reds', 'price': 1.69, 'point': 1.5}, {'name': 'St. Louis Cardinals', 'price': 2.25, 'point': -1.5}]}]}, {'key': 'foxbet', 'title': 'FOX Bet', 'last_update': '2023-05-25T14:48:47Z', 'markets': [{'key': 'h2h', 'last_update': '2023-05-25T14:48:47Z', 'outcomes': [{'name': 'Cincinnati Reds', 'price': 2.05}, {'name': 'St. Louis Cardinals', 'price': 1.72}]}, {'key': 'spreads', 'last_update': '2023-05-25T14:48:47Z', 'outcomes': [{'name': 'Cincinnati Reds', 'price': 1.83, 'point': 1.0}, {'name': 'St. Louis Cardinals', 'price': 1.95, 'point': -1.0}]}]}, {'key': 'lowvig', 'title': 'LowVig.ag', 'last_update': '2023-05-25T14:48:32Z', 'markets': [{'key': 'h2h', 'last_update': '2023-05-25T14:48:32Z', 'outcomes': [{'name': 'Cincinnati Reds', 'price': 2.11}, {'name': 'St. Louis Cardinals', 'price': 1.83}]}, {'key': 'spreads', 'last_update': '2023-05-25T14:48:32Z', 'outcomes': [{'name': 'Cincinnati Reds', 'price': 1.71, 'point': 1.5}, {'name': 'St. Louis Cardinals', 'price': 2.3, 'point': -1.5}]}]}, {'key': 'williamhill_us', 'title': 'William Hill (US)', 'last_update': '2023-05-25T14:49:23Z', 'markets': [{'key': 'h2h', 'last_update': '2023-05-25T14:49:23Z', 'outcomes': [{'name': 'Cincinnati Reds', 'price': 2.05}, {'name': 'St. Louis Cardinals', 'price': 1.8}]}, {'key': 'spreads', 'last_update': '2023-05-25T14:49:23Z', 'outcomes': [{'name': 'Cincinnati Reds', 'price': 1.69, 'point': 1.5}, {'name': 'St. Louis Cardinals', 'price': 2.22, 'point': -1.5}]}]}, {'key': 'pointsbetus', 'title': 'PointsBet (US)', 'last_update': '2023-05-25T14:49:15Z', 'markets': [{'key': 'h2h', 'last_update': '2023-05-25T14:49:15Z', 'outcomes': [{'name': 'Cincinnati Reds', 'price': 2.05}, {'name': 'St. Louis Cardinals', 'price': 1.8}]}, {'key': 'spreads', 'last_update': '2023-05-25T14:49:15Z', 'outcomes': [{'name': 'Cincinnati Reds', 'price': 1.69, 'point': 1.5}, {'name': 'St. Louis Cardinals', 'price': 2.2, 'point': -1.5}]}]}, {'key': 'betonlineag', 'title': 'BetOnline.ag', 'last_update': '2023-05-25T14:49:09Z', 'markets': [{'key': 'h2h', 'last_update': '2023-05-25T14:49:09Z', 'outcomes': [{'name': 'Cincinnati Reds', 'price': 2.11}, {'name': 'St. Louis Cardinals', 'price': 1.83}]}, {'key': 'spreads', 'last_update': '2023-05-25T14:49:09Z', 'outcomes': [{'name': 'Cincinnati Reds', 'price': 1.69, 'point': 1.5}, {'name': 'St. Louis Cardinals', 'price': 2.25, 'point': -1.5}]}]}, {'key': 'bovada', 'title': 'Bovada', 'last_update': '2023-05-25T14:48:48Z', 'markets': [{'key': 'h2h', 'last_update': '2023-05-25T14:48:48Z', 'outcomes': [{'name': 'Cincinnati Reds', 'price': 2.08}, {'name': 'St. Louis Cardinals', 'price': 1.77}]}, {'key': 'spreads', 'last_update': '2023-05-25T14:48:48Z', 'outcomes': [{'name': 'Cincinnati Reds', 'price': 1.74, 'point': 1.5}, {'name': 'St. Louis Cardinals', 'price': 2.15, 'point': -1.5}]}]}, {'key': 'fanduel', 'title': 'FanDuel', 'last_update': '2023-05-25T14:49:09Z', 'markets': [{'key': 'h2h', 'last_update': '2023-05-25T14:49:09Z', 'outcomes': [{'name': 'Cincinnati Reds', 'price': 2.08}, {'name': 'St. Louis Cardinals', 'price': 1.79}]}, {'key': 'spreads', 'last_update': '2023-05-25T14:49:09Z', 'outcomes': [{'name': 'Cincinnati Reds', 'price': 1.68, 'point': 1.5}, {'name': 'St. Louis Cardinals', 'price': 2.22, 'point': -1.5}]}]}, {'key': 'wynnbet', 'title': 'WynnBET', 'last_update': '2023-05-25T14:44:20Z', 'markets': [{'key': 'h2h', 'last_update': '2023-05-25T14:44:20Z', 'outcomes': [{'name': 'Cincinnati Reds', 'price': 2.18}, {'name': 'St. Louis Cardinals', 'price': 1.77}]}]}, {'key': 'mybookieag', 'title': 'MyBookie.ag', 'last_update': '2023-05-25T14:48:44Z', 'markets': [{'key': 'h2h', 'last_update': '2023-05-25T14:48:44Z', 'outcomes': [{'name': 'Cincinnati Reds', 'price': 2.01}, {'name': 'St. Louis Cardinals', 'price': 1.81}]}, {'key': 'spreads', 'last_update': '2023-05-25T14:48:44Z', 'outcomes': [{'name': 'Cincinnati Reds', 'price': 1.64, 'point': 1.5}, {'name': 'St. Louis Cardinals', 'price': 2.28, 'point': -1.5}]}]}, {'key': 'circasports', 'title': 'Circa Sports', 'last_update': '2023-05-25T14:49:35Z', 'markets': [{'key': 'h2h', 'last_update': '2023-05-25T14:49:35Z', 'outcomes': [{'name': 'Cincinnati Reds', 'price': 2.04}, {'name': 'St. Louis Cardinals', 'price': 1.81}]}, {'key': 'spreads', 'last_update': '2023-05-25T14:49:35Z', 'outcomes': [{'name': 'Cincinnati Reds', 'price': 1.65, 'point': 1.5}, {'name': 'St. Louis Cardinals', 'price': 2.25, 'point': -1.5}]}]}, {'key': 'barstool', 'title': 'Barstool Sportsbook', 'last_update': '2023-05-25T14:49:17Z', 'markets': [{'key': 'h2h', 'last_update': '2023-05-25T14:49:17Z', 'outcomes': [{'name': 'Cincinnati Reds', 'price': 2.08}, {'name': 'St. Louis Cardinals', 'price': 1.79}]}, {'key': 'spreads', 'last_update': '2023-05-25T14:49:17Z', 'outcomes': [{'name': 'Cincinnati Reds', 'price': 1.66, 'point': 1.5}, {'name': 'St. Louis Cardinals', 'price': 2.25, 'point': -1.5}]}]}, {'key': 'betrivers', 'title': 'BetRivers', 'last_update': '2023-05-25T14:49:22Z', 'markets': [{'key': 'h2h', 'last_update': '2023-05-25T14:49:22Z', 'outcomes': [{'name': 'Cincinnati Reds', 'price': 2.1}, {'name': 'St. Louis Cardinals', 'price': 1.8}]}, {'key': 'spreads', 'last_update': '2023-05-25T14:49:22Z', 'outcomes': [{'name': 'Cincinnati Reds', 'price': 1.66, 'point': 1.5}, {'name': 'St. Louis Cardinals', 'price': 2.25, 'point': -1.5}]}]}, {'key': 'sugarhouse', 'title': 'SugarHouse', 'last_update': '2023-05-25T14:49:22Z', 'markets': [{'key': 'h2h', 'last_update': '2023-05-25T14:49:22Z', 'outcomes': [{'name': 'Cincinnati Reds', 'price': 2.1}, {'name': 'St. Louis Cardinals', 'price': 1.8}]}, {'key': 'spreads', 'last_update': '2023-05-25T14:49:22Z', 'outcomes': [{'name': 'Cincinnati Reds', 'price': 1.66, 'point': 1.5}, {'name': 'St. Louis Cardinals', 'price': 2.25, 'point': -1.5}]}]}, {'key': 'unibet_us', 'title': 'Unibet', 'last_update': '2023-05-25T14:49:38Z', 'markets': [{'key': 'h2h', 'last_update': '2023-05-25T14:49:38Z', 'outcomes': [{'name': 'Cincinnati Reds', 'price': 2.08}, {'name': 'St. Louis Cardinals', 'price': 1.79}]}, {'key': 'spreads', 'last_update': '2023-05-25T14:49:38Z', 'outcomes': [{'name': 'Cincinnati Reds', 'price': 1.66, 'point': 1.5}, {'name': 'St. Louis Cardinals', 'price': 2.25, 'point': -1.5}]}]}, {'key': 'twinspires', 'title': 'TwinSpires', 'last_update': '2023-05-25T14:49:20Z', 'markets': [{'key': 'h2h', 'last_update': '2023-05-25T14:49:20Z', 'outcomes': [{'name': 'Cincinnati Reds', 'price': 2.08}, {'name': 'St. Louis Cardinals', 'price': 1.78}]}, {'key': 'spreads', 'last_update': '2023-05-25T14:49:20Z', 'outcomes': [{'name': 'Cincinnati Reds', 'price': 1.66, 'point': 1.5}, {'name': 'St. Louis Cardinals', 'price': 2.25, 'point': -1.5}]}]}, {'key': 'betmgm', 'title': 'BetMGM', 'last_update': '2023-05-25T14:49:38Z', 'markets': [{'key': 'h2h', 'last_update': '2023-05-25T14:49:38Z', 'outcomes': [{'name': 'Cincinnati Reds', 'price': 2.05}, {'name': 'St. Louis Cardinals', 'price': 1.8}]}, {'key': 'spreads', 'last_update': '2023-05-25T14:49:38Z', 'outcomes': [{'name': 'Cincinnati Reds', 'price': 1.67, 'point': 1.5}, {'name': 'St. Louis Cardinals', 'price': 2.25, 'point': -1.5}]}]}, {'key': 'superbook', 'title': 'SuperBook', 'last_update': '2023-05-25T14:49:34Z', 'markets': [{'key': 'h2h', 'last_update': '2023-05-25T14:49:34Z', 'outcomes': [{'name': 'Cincinnati Reds', 'price': 2.06}, {'name': 'St. Louis Cardinals', 'price': 1.81}]}]}]}, {'id': '1475af15ad44c569cfe5398bced7d649', 'sport_key': 'baseball_ncaa', 'sport_title': 'NCAA Baseball', 'commence_time': '2023-05-25T17:00:00Z', 'home_team': 'Oregon St Beavers', 'away_team': 'Arizona St Sun Devils', 'bookmakers': [{'key': 'draftkings', 'title': 'DraftKings', 'last_update': '2023-05-25T14:49:24Z', 'markets': [{'key': 'h2h', 'last_update': '2023-05-25T14:49:24Z', 'outcomes': [{'name': 'Arizona St Sun Devils', 'price': 2.05}, {'name': 'Oregon St Beavers', 'price': 1.74}]}]}, {'key': 'betus', 'title': 'BetUS', 'last_update': '2023-05-25T14:49:22Z', 'markets': [{'key': 'h2h', 'last_update': '2023-05-25T14:49:22Z', 'outcomes': [{'name': 'Arizona St Sun Devils', 'price': 2.05}, {'name': 'Oregon St Beavers', 'price': 1.74}]}]}, {'key': 'lowvig', 'title': 'LowVig.ag', 'last_update': '2023-05-25T14:49:00Z', 'markets': [{'key': 'h2h', 'last_update': '2023-05-25T14:49:00Z', 'outcomes': [{'name': 'Arizona St Sun Devils', 'price': 2.05}, {'name': 'Oregon St Beavers', 'price': 1.74}]}]}, {'key': 'betonlineag', 'title': 'BetOnline.ag', 'last_update': '2023-05-25T14:49:28Z', 'markets': [{'key': 'h2h', 'last_update': '2023-05-25T14:49:28Z', 'outcomes': [{'name': 'Arizona St Sun Devils', 'price': 2.05}, {'name': 'Oregon St Beavers', 'price': 1.74}]}]}, {'key': 'bovada', 'title': 'Bovada', 'last_update': '2023-05-25T14:49:21Z', 'markets': [{'key': 'h2h', 'last_update': '2023-05-25T14:49:20Z', 'outcomes': [{'name': 'Arizona St Sun Devils', 'price': 2.15}, {'name': 'Oregon St Beavers', 'price': 1.67}]}]}, {'key': 'williamhill_us', 'title': 'William Hill (US)', 'last_update': '2023-05-25T14:49:38Z', 'markets': [{'key': 'h2h', 'last_update': '2023-05-25T14:49:38Z', 'outcomes': [{'name': 'Arizona St Sun Devils', 'price': 2.2}, {'name': 'Oregon St Beavers', 'price': 1.67}]}]}, {'key': 'unibet_us', 'title': 'Unibet', 'last_update': '2023-05-25T14:49:14Z', 'markets': [{'key': 'h2h', 'last_update': '2023-05-25T14:49:14Z', 'outcomes': [{'name': 'Arizona St Sun Devils', 'price': 2.04}, {'name': 'Oregon St Beavers', 'price': 1.74}]}]}, {'key': 'sugarhouse', 'title': 'SugarHouse', 'last_update': '2023-05-25T14:49:14Z', 'markets': [{'key': 'h2h', 'last_update': '2023-05-25T14:49:14Z', 'outcomes': [{'name': 'Arizona St Sun Devils', 'price': 2.04}, {'name': 'Oregon St Beavers', 'price': 1.74}]}]}, {'key': 'barstool', 'title': 'Barstool Sportsbook', 'last_update': '2023-05-25T14:49:16Z', 'markets': [{'key': 'h2h', 'last_update': '2023-05-25T14:49:16Z', 'outcomes': [{'name': 'Arizona St Sun Devils', 'price': 2.04}, {'name': 'Oregon St Beavers', 'price': 1.74}]}]}, {'key': 'twinspires', 'title': 'TwinSpires', 'last_update': '2023-05-25T14:49:28Z', 'markets': [{'key': 'h2h', 'last_update': '2023-05-25T14:49:28Z', 'outcomes': [{'name': 'Arizona St Sun Devils', 'price': 2.04}, {'name': 'Oregon St Beavers', 'price': 1.74}]}]}, {'key': 'betrivers', 'title': 'BetRivers', 'last_update': '2023-05-25T14:49:06Z', 'markets': [{'key': 'h2h', 'last_update': '2023-05-25T14:49:06Z', 'outcomes': [{'name': 'Arizona St Sun Devils', 'price': 2.04}, {'name': 'Oregon St Beavers', 'price': 1.74}]}]}, {'key': 'betmgm', 'title': 'BetMGM', 'last_update': '2023-05-25T14:49:04Z', 'markets': [{'key': 'h2h', 'last_update': '2023-05-25T14:49:04Z', 'outcomes': [{'name': 'Arizona St Sun Devils', 'price': 2.05}, {'name': 'Oregon St Beavers', 'price': 1.74}]}]}, {'key': 'fanduel', 'title': 'FanDuel', 'last_update': '2023-05-25T14:49:40Z', 'markets': [{'key': 'h2h', 'last_update': '2023-05-25T14:49:40Z', 'outcomes': [{'name': 'Arizona St Sun Devils', 'price': 2.08}, {'name': 'Oregon St Beavers', 'price': 1.72}]}]}]}, {'id': '961036680364f4eae05995df61aa409d', 'sport_key': 'baseball_ncaa', 'sport_title': 'NCAA Baseball', 'commence_time': '2023-05-25T17:00:00Z', 'home_team': 'Campbell Fighting Camels', 'away_team': 'Gardner-Webb Bulldogs', 'bookmakers': [{'key': 'draftkings', 'title': 'DraftKings', 'last_update': '2023-05-25T14:49:24Z', 'markets': [{'key': 'h2h', 'last_update': '2023-05-25T14:49:24Z', 'outcomes': [{'name': 'Campbell Fighting Camels', 'price': 1.38}, {'name': 'Gardner-Webb Bulldogs', 'price': 3.1}]}]}, {'key': 'fanduel', 'title': 'FanDuel', 'last_update': '2023-05-25T14:49:40Z', 'markets': [{'key': 'h2h', 'last_update': '2023-05-25T14:49:40Z', 'outcomes': [{'name': 'Campbell Fighting Camels', 'price': 1.34}, {'name': 'Gardner-Webb Bulldogs', 'price': 3.15}]}]}, {'key': 'bovada', 'title': 'Bovada', 'last_update': '2023-05-25T14:49:21Z', 'markets': [{'key': 'h2h', 'last_update': '2023-05-25T14:49:20Z', 'outcomes': [{'name': 'Campbell Fighting Camels', 'price': 1.36}, {'name': 'Gardner-Webb Bulldogs', 'price': 3.0}]}]}, {'key': 'betmgm', 'title': 'BetMGM', 'last_update': '2023-05-25T14:49:04Z', 'markets': [{'key': 'h2h', 'last_update': '2023-05-25T14:49:04Z', 'outcomes': [{'name': 'Campbell Fighting Camels', 'price': 1.36}, {'name': 'Gardner-Webb Bulldogs', 'price': 3.0}]}]}]}, {'id': '0fb659ef10663ec76e6acfdfdcee9bbe', 'sport_key': 'soccer_sweden_allsvenskan', 'sport_title': 'Allsvenskan - Sweden', 'commence_time': '2023-05-25T17:00:00Z', 'home_team': 'Degerfors IF', 'away_team': 'Hammarby IF', 'bookmakers': [{'key': 'sugarhouse', 'title': 'SugarHouse', 'last_update': '2023-05-25T14:47:31Z', 'markets': [{'key': 'h2h', 'last_update': '2023-05-25T14:47:31Z', 'outcomes': [{'name': 'Degerfors IF', 'price': 3.6}, {'name': 'Hammarby IF', 'price': 1.97}, {'name': 'Draw', 'price': 3.7}]}]}, {'key': 'bovada', 'title': 'Bovada', 'last_update': '2023-05-25T14:49:37Z', 'markets': [{'key': 'h2h', 'last_update': '2023-05-25T14:49:37Z', 'outcomes': [{'name': 'Degerfors IF', 'price': 3.5}, {'name': 'Hammarby IF', 'price': 2.05}, {'name': 'Draw', 'price': 3.45}]}, {'key': 'spreads', 'last_update': '2023-05-25T14:49:37Z', 'outcomes': [{'name': 'Degerfors IF', 'price': 1.78, 'point': 0.5}, {'name': 'Hammarby IF', 'price': 2.08, 'point': -0.5}]}]}, {'key': 'mybookieag', 'title': 'MyBookie.ag', 'last_update': '2023-05-25T14:48:59Z', 'markets': [{'key': 'h2h', 'last_update': '2023-05-25T14:48:59Z', 'outcomes': [{'name': 'Degerfors IF', 'price': 3.5}, {'name': 'Hammarby IF', 'price': 2.03}, {'name': 'Draw', 'price': 3.6}]}, {'key': 'spreads', 'last_update': '2023-05-25T14:48:59Z', 'outcomes': [{'name': 'Degerfors IF', 'price': 1.79, 'point': 0.5}, {'name': 'Hammarby IF', 'price': 2.0, 'point': -0.5}]}]}, {'key': 'foxbet', 'title': 'FOX Bet', 'last_update': '2023-05-25T14:49:15Z', 'markets': [{'key': 'h2h', 'last_update': '2023-05-25T14:49:15Z', 'outcomes': [{'name': 'Degerfors IF', 'price': 3.2}, {'name': 'Hammarby IF', 'price': 1.91}, {'name': 'Draw', 'price': 3.3}]}]}, {'key': 'draftkings', 'title': 'DraftKings', 'last_update': '2023-05-25T14:47:53Z', 'markets': [{'key': 'h2h', 'last_update': '2023-05-25T14:47:53Z', 'outcomes': [{'name': 'Degerfors IF', 'price': 3.55}, {'name': 'Hammarby IF', 'price': 2.0}, {'name': 'Draw', 'price': 3.7}]}]}, {'key': 'williamhill_us', 'title': 'William Hill (US)', 'last_update': '2023-05-25T14:49:13Z', 'markets': [{'key': 'h2h', 'last_update': '2023-05-25T14:49:13Z', 'outcomes': [{'name': 'Degerfors IF', 'price': 3.4}, {'name': 'Hammarby IF', 'price': 1.98}, {'name': 'Draw', 'price': 3.4}]}]}, {'key': 'betus', 'title': 'BetUS', 'last_update': '2023-05-25T14:48:25Z', 'markets': [{'key': 'h2h', 'last_update': '2023-05-25T14:48:25Z', 'outcomes': [{'name': 'Degerfors IF', 'price': 3.55}, {'name': 'Hammarby IF', 'price': 2.0}, {'name': 'Draw', 'price': 3.7}]}, {'key': 'spreads', 'last_update': '2023-05-25T14:48:25Z', 'outcomes': [{'name': 'Degerfors IF', 'price': 1.77, 'point': 0.5}, {'name': 'Hammarby IF', 'price': 2.0, 'point': -0.5}]}]}, {'key': 'betonlineag', 'title': 'BetOnline.ag', 'last_update': '2023-05-25T14:49:41Z', 'markets': [{'key': 'h2h', 'last_update': '2023-05-25T14:49:41Z', 'outcomes': [{'name': 'Degerfors IF', 'price': 3.6}, {'name': 'Hammarby IF', 'price': 2.01}, {'name': 'Draw', 'price': 3.65}]}, {'key': 'spreads', 'last_update': '2023-05-25T14:49:41Z', 'outcomes': [{'name': 'Degerfors IF', 'price': 1.83, 'point': 0.5}, {'name': 'Hammarby IF', 'price': 2.01, 'point': -0.5}]}]}, {'key': 'lowvig', 'title': 'LowVig.ag', 'last_update': '2023-05-25T14:48:32Z', 'markets': [{'key': 'h2h', 'last_update': '2023-05-25T14:48:32Z', 'outcomes': [{'name': 'Degerfors IF', 'price': 3.6}, {'name': 'Hammarby IF', 'price': 2.01}, {'name': 'Draw', 'price': 3.65}]}, {'key': 'spreads', 'last_update': '2023-05-25T14:48:32Z', 'outcomes': [{'name': 'Degerfors IF', 'price': 1.83, 'point': 0.5}, {'name': 'Hammarby IF', 'price': 2.01, 'point': -0.5}]}]}]}, {'id': 'c034f6fafac3f4ac64b9de45af77acf9', 'sport_key': 'baseball_mlb', 'sport_title': 'MLB', 'commence_time': '2023-05-25T17:10:00Z', 'home_team': 'Tampa Bay Rays', 'away_team': 'Toronto Blue Jays', 'bookmakers': [{'key': 'draftkings', 'title': 'DraftKings', 'last_update': '2023-05-25T14:49:34Z', 'markets': [{'key': 'h2h', 'last_update': '2023-05-25T14:49:34Z', 'outcomes': [{'name': 'Tampa Bay Rays', 'price': 1.59}, {'name': 'Toronto Blue Jays', 'price': 2.45}]}, {'key': 'spreads', 'last_update': '2023-05-25T14:49:34Z', 'outcomes': [{'name': 'Tampa Bay Rays', 'price': 2.25, 'point': -1.5}, {'name': 'Toronto Blue Jays', 'price': 1.69, 'point': 1.5}]}]}, {'key': 'betus', 'title': 'BetUS', 'last_update': '2023-05-25T14:49:14Z', 'markets': [{'key': 'h2h', 'last_update': '2023-05-25T14:49:14Z', 'outcomes': [{'name': 'Tampa Bay Rays', 'price': 1.61}, {'name': 'Toronto Blue Jays', 'price': 2.45}]}, {'key': 'spreads', 'last_update': '2023-05-25T14:49:14Z', 'outcomes': [{'name': 'Tampa Bay Rays', 'price': 2.25, 'point': -1.5}, {'name': 'Toronto Blue Jays', 'price': 1.69, 'point': 1.5}]}]}, {'key': 'foxbet', 'title': 'FOX Bet', 'last_update': '2023-05-25T14:48:47Z', 'markets': [{'key': 'h2h', 'last_update': '2023-05-25T14:48:47Z', 'outcomes': [{'name': 'Tampa Bay Rays', 'price': 1.62}, {'name': 'Toronto Blue Jays', 'price': 2.2}]}, {'key': 'spreads', 'last_update': '2023-05-25T14:48:47Z', 'outcomes': [{'name': 'Tampa Bay Rays', 'price': 1.95, 'point': -1.0}, {'name': 'Toronto Blue Jays', 'price': 1.85, 'point': 1.0}]}]}, {'key': 'lowvig', 'title': 'LowVig.ag', 'last_update': '2023-05-25T14:48:32Z', 'markets': [{'key': 'h2h', 'last_update': '2023-05-25T14:48:32Z', 'outcomes': [{'name': 'Tampa Bay Rays', 'price': 1.62}, {'name': 'Toronto Blue Jays', 'price': 2.49}]}, {'key': 'spreads', 'last_update': '2023-05-25T14:48:32Z', 'outcomes': [{'name': 'Tampa Bay Rays', 'price': 2.28, 'point': -1.5}, {'name': 'Toronto Blue Jays', 'price': 1.72, 'point': 1.5}]}]}, {'key': 'williamhill_us', 'title': 'William Hill (US)', 'last_update': '2023-05-25T14:49:23Z', 'markets': [{'key': 'h2h', 'last_update': '2023-05-25T14:49:23Z', 'outcomes': [{'name': 'Tampa Bay Rays', 'price': 1.59}, {'name': 'Toronto Blue Jays', 'price': 2.43}]}, {'key': 'spreads', 'last_update': '2023-05-25T14:49:23Z', 'outcomes': [{'name': 'Tampa Bay Rays', 'price': 2.22, 'point': -1.5}, {'name': 'Toronto Blue Jays', 'price': 1.69, 'point': 1.5}]}]}, {'key': 'pointsbetus', 'title': 'PointsBet (US)', 'last_update': '2023-05-25T14:49:15Z', 'markets': [{'key': 'h2h', 'last_update': '2023-05-25T14:49:15Z', 'outcomes': [{'name': 'Tampa Bay Rays', 'price': 1.62}, {'name': 'Toronto Blue Jays', 'price': 2.3}]}, {'key': 'spreads', 'last_update': '2023-05-25T14:49:15Z', 'outcomes': [{'name': 'Tampa Bay Rays', 'price': 2.25, 'point': -1.5}, {'name': 'Toronto Blue Jays', 'price': 1.67, 'point': 1.5}]}]}, {'key': 'betonlineag', 'title': 'BetOnline.ag', 'last_update': '2023-05-25T14:49:09Z', 'markets': [{'key': 'h2h', 'last_update': '2023-05-25T14:49:09Z', 'outcomes': [{'name': 'Tampa Bay Rays', 'price': 1.62}, {'name': 'Toronto Blue Jays', 'price': 2.49}]}, {'key': 'spreads', 'last_update': '2023-05-25T14:49:09Z', 'outcomes': [{'name': 'Tampa Bay Rays', 'price': 2.23, 'point': -1.5}, {'name': 'Toronto Blue Jays', 'price': 1.7, 'point': 1.5}]}]}, {'key': 'bovada', 'title': 'Bovada', 'last_update': '2023-05-25T14:48:48Z', 'markets': [{'key': 'h2h', 'last_update': '2023-05-25T14:48:48Z', 'outcomes': [{'name': 'Tampa Bay Rays', 'price': 1.57}, {'name': 'Toronto Blue Jays', 'price': 2.44}]}, {'key': 'spreads', 'last_update': '2023-05-25T14:48:48Z', 'outcomes': [{'name': 'Tampa Bay Rays', 'price': 2.25, 'point': -1.5}, {'name': 'Toronto Blue Jays', 'price': 1.69, 'point': 1.5}]}]}, {'key': 'wynnbet', 'title': 'WynnBET', 'last_update': '2023-05-25T14:44:20Z', 'markets': [{'key': 'h2h', 'last_update': '2023-05-25T14:44:20Z', 'outcomes': [{'name': 'Tampa Bay Rays', 'price': 1.65}, {'name': 'Toronto Blue Jays', 'price': 2.4}]}]}, {'key': 'fanduel', 'title': 'FanDuel', 'last_update': '2023-05-25T14:49:09Z', 'markets': [{'key': 'h2h', 'last_update': '2023-05-25T14:49:09Z', 'outcomes': [{'name': 'Tampa Bay Rays', 'price': 1.68}, {'name': 'Toronto Blue Jays', 'price': 2.26}]}, {'key': 'spreads', 'last_update': '2023-05-25T14:49:09Z', 'outcomes': [{'name': 'Tampa Bay Rays', 'price': 2.32, 'point': -1.5}, {'name': 'Toronto Blue Jays', 'price': 1.62, 'point': 1.5}]}]}, {'key': 'mybookieag', 'title': 'MyBookie.ag', 'last_update': '2023-05-25T14:48:44Z', 'markets': [{'key': 'h2h', 'last_update': '2023-05-25T14:48:44Z', 'outcomes': [{'name': 'Tampa Bay Rays', 'price': 1.61}, {'name': 'Toronto Blue Jays', 'price': 2.34}]}, {'key': 'spreads', 'last_update': '2023-05-25T14:48:44Z', 'outcomes': [{'name': 'Tampa Bay Rays', 'price': 2.25, 'point': -1.5}, {'name': 'Toronto Blue Jays', 'price': 1.65, 'point': 1.5}]}]}, {'key': 'circasports', 'title': 'Circa Sports', 'last_update': '2023-05-25T14:49:35Z', 'markets': [{'key': 'h2h', 'last_update': '2023-05-25T14:49:35Z', 'outcomes': [{'name': 'Tampa Bay Rays', 'price': 1.62}, {'name': 'Toronto Blue Jays', 'price': 2.35}]}, {'key': 'spreads', 'last_update': '2023-05-25T14:49:35Z', 'outcomes': [{'name': 'Tampa Bay Rays', 'price': 2.23, 'point': -1.5}, {'name': 'Toronto Blue Jays', 'price': 1.67, 'point': 1.5}]}]}, {'key': 'barstool', 'title': 'Barstool Sportsbook', 'last_update': '2023-05-25T14:49:17Z', 'markets': [{'key': 'h2h', 'last_update': '2023-05-25T14:49:17Z', 'outcomes': [{'name': 'Tampa Bay Rays', 'price': 1.63}, {'name': 'Toronto Blue Jays', 'price': 2.35}]}, {'key': 'spreads', 'last_update': '2023-05-25T14:49:17Z', 'outcomes': [{'name': 'Tampa Bay Rays', 'price': 2.32, 'point': -1.5}, {'name': 'Toronto Blue Jays', 'price': 1.62, 'point': 1.5}]}]}, {'key': 'betrivers', 'title': 'BetRivers', 'last_update': '2023-05-25T14:49:22Z', 'markets': [{'key': 'h2h', 'last_update': '2023-05-25T14:49:22Z', 'outcomes': [{'name': 'Tampa Bay Rays', 'price': 1.65}, {'name': 'Toronto Blue Jays', 'price': 2.35}]}, {'key': 'spreads', 'last_update': '2023-05-25T14:49:22Z', 'outcomes': [{'name': 'Tampa Bay Rays', 'price': 2.32, 'point': -1.5}, {'name': 'Toronto Blue Jays', 'price': 1.62, 'point': 1.5}]}]}, {'key': 'sugarhouse', 'title': 'SugarHouse', 'last_update': '2023-05-25T14:49:22Z', 'markets': [{'key': 'h2h', 'last_update': '2023-05-25T14:49:22Z', 'outcomes': [{'name': 'Tampa Bay Rays', 'price': 1.65}, {'name': 'Toronto Blue Jays', 'price': 2.35}]}, {'key': 'spreads', 'last_update': '2023-05-25T14:49:22Z', 'outcomes': [{'name': 'Tampa Bay Rays', 'price': 2.32, 'point': -1.5}, {'name': 'Toronto Blue Jays', 'price': 1.62, 'point': 1.5}]}]}, {'key': 'unibet_us', 'title': 'Unibet', 'last_update': '2023-05-25T14:49:38Z', 'markets': [{'key': 'h2h', 'last_update': '2023-05-25T14:49:38Z', 'outcomes': [{'name': 'Tampa Bay Rays', 'price': 1.62}, {'name': 'Toronto Blue Jays', 'price': 2.38}]}, {'key': 'spreads', 'last_update': '2023-05-25T14:49:38Z', 'outcomes': [{'name': 'Tampa Bay Rays', 'price': 2.3, 'point': -1.5}, {'name': 'Toronto Blue Jays', 'price': 1.64, 'point': 1.5}]}]}, {'key': 'twinspires', 'title': 'TwinSpires', 'last_update': '2023-05-25T14:49:20Z', 'markets': [{'key': 'h2h', 'last_update': '2023-05-25T14:49:20Z', 'outcomes': [{'name': 'Tampa Bay Rays', 'price': 1.62}, {'name': 'Toronto Blue Jays', 'price': 2.35}]}, {'key': 'spreads', 'last_update': '2023-05-25T14:49:20Z', 'outcomes': [{'name': 'Tampa Bay Rays', 'price': 2.32, 'point': -1.5}, {'name': 'Toronto Blue Jays', 'price': 1.62, 'point': 1.5}]}]}, {'key': 'betmgm', 'title': 'BetMGM', 'last_update': '2023-05-25T14:49:38Z', 'markets': [{'key': 'h2h', 'last_update': '2023-05-25T14:49:38Z', 'outcomes': [{'name': 'Tampa Bay Rays', 'price': 1.62}, {'name': 'Toronto Blue Jays', 'price': 2.35}]}, {'key': 'spreads', 'last_update': '2023-05-25T14:49:38Z', 'outcomes': [{'name': 'Tampa Bay Rays', 'price': 2.25, 'point': -1.5}, {'name': 'Toronto Blue Jays', 'price': 1.67, 'point': 1.5}]}]}, {'key': 'superbook', 'title': 'SuperBook', 'last_update': '2023-05-25T14:49:34Z', 'markets': [{'key': 'h2h', 'last_update': '2023-05-25T14:49:34Z', 'outcomes': [{'name': 'Tampa Bay Rays', 'price': 1.6}, {'name': 'Toronto Blue Jays', 'price': 2.42}]}]}]}, {'id': 'b5d906c00761c7aa3b15769cf9ac644a', 'sport_key': 'baseball_ncaa', 'sport_title': 'NCAA Baseball', 'commence_time': '2023-05-25T17:30:00Z', 'home_team': 'Texas State Bobcats', 'away_team': 'Georgia St Panthers', 'bookmakers': [{'key': 'draftkings', 'title': 'DraftKings', 'last_update': '2023-05-25T14:49:24Z', 'markets': [{'key': 'h2h', 'last_update': '2023-05-25T14:49:24Z', 'outcomes': [{'name': 'Georgia St Panthers', 'price': 2.05}, {'name': 'Texas State Bobcats', 'price': 1.74}]}]}, {'key': 'bovada', 'title': 'Bovada', 'last_update': '2023-05-25T14:49:21Z', 'markets': [{'key': 'h2h', 'last_update': '2023-05-25T14:49:20Z', 'outcomes': [{'name': 'Georgia St Panthers', 'price': 2.05}, {'name': 'Texas State Bobcats', 'price': 1.74}]}]}, {'key': 'mybookieag', 'title': 'MyBookie.ag', 'last_update': '2023-05-25T14:49:21Z', 'markets': [{'key': 'h2h', 'last_update': '2023-05-25T14:49:21Z', 'outcomes': [{'name': 'Georgia St Panthers', 'price': 2.01}, {'name': 'Texas State Bobcats', 'price': 1.72}]}]}, {'key': 'twinspires', 'title': 'TwinSpires', 'last_update': '2023-05-25T14:49:28Z', 'markets': [{'key': 'h2h', 'last_update': '2023-05-25T14:49:28Z', 'outcomes': [{'name': 'Georgia St Panthers', 'price': 2.05}, {'name': 'Texas State Bobcats', 'price': 1.74}]}]}, {'key': 'betrivers', 'title': 'BetRivers', 'last_update': '2023-05-25T14:49:06Z', 'markets': [{'key': 'h2h', 'last_update': '2023-05-25T14:49:06Z', 'outcomes': [{'name': 'Georgia St Panthers', 'price': 2.05}, {'name': 'Texas State Bobcats', 'price': 1.74}]}]}, {'key': 'unibet_us', 'title': 'Unibet', 'last_update': '2023-05-25T14:49:14Z', 'markets': [{'key': 'h2h', 'last_update': '2023-05-25T14:49:14Z', 'outcomes': [{'name': 'Georgia St Panthers', 'price': 2.05}, {'name': 'Texas State Bobcats', 'price': 1.74}]}]}, {'key': 'barstool', 'title': 'Barstool Sportsbook', 'last_update': '2023-05-25T14:49:16Z', 'markets': [{'key': 'h2h', 'last_update': '2023-05-25T14:49:16Z', 'outcomes': [{'name': 'Georgia St Panthers', 'price': 2.05}, {'name': 'Texas State Bobcats', 'price': 1.74}]}]}, {'key': 'sugarhouse', 'title': 'SugarHouse', 'last_update': '2023-05-25T14:49:14Z', 'markets': [{'key': 'h2h', 'last_update': '2023-05-25T14:49:14Z', 'outcomes': [{'name': 'Georgia St Panthers', 'price': 2.05}, {'name': 'Texas State Bobcats', 'price': 1.74}]}]}, {'key': 'betmgm', 'title': 'BetMGM', 'last_update': '2023-05-25T14:49:04Z', 'markets': [{'key': 'h2h', 'last_update': '2023-05-25T14:49:04Z', 'outcomes': [{'name': 'Georgia St Panthers', 'price': 2.05}, {'name': 'Texas State Bobcats', 'price': 1.74}]}]}, {'key': 'fanduel', 'title': 'FanDuel', 'last_update': '2023-05-25T14:49:40Z', 'markets': [{'key': 'h2h', 'last_update': '2023-05-25T14:49:40Z', 'outcomes': [{'name': 'Georgia St Panthers', 'price': 2.06}, {'name': 'Texas State Bobcats', 'price': 1.74}]}]}]}, {'id': '3d1bd20469e6969adcbfd42f012de764', 'sport_key': 'baseball_ncaa', 'sport_title': 'NCAA Baseball', 'commence_time': '2023-05-25T17:30:00Z', 'home_team': 'Louisiana Tech Bulldogs', 'away_team': 'Middle Tennessee Blue Raiders', 'bookmakers': [{'key': 'draftkings', 'title': 'DraftKings', 'last_update': '2023-05-25T14:49:24Z', 'markets': [{'key': 'h2h', 'last_update': '2023-05-25T14:49:24Z', 'outcomes': [{'name': 'Louisiana Tech Bulldogs', 'price': 1.69}, {'name': 'Middle Tennessee Blue Raiders', 'price': 2.15}]}]}, {'key': 'bovada', 'title': 'Bovada', 'last_update': '2023-05-25T14:49:21Z', 'markets': [{'key': 'h2h', 'last_update': '2023-05-25T14:49:20Z', 'outcomes': [{'name': 'Louisiana Tech Bulldogs', 'price': 1.67}, {'name': 'Middle Tennessee Blue Raiders', 'price': 2.15}]}]}, {'key': 'mybookieag', 'title': 'MyBookie.ag', 'last_update': '2023-05-25T14:49:21Z', 'markets': [{'key': 'h2h', 'last_update': '2023-05-25T14:49:21Z', 'outcomes': [{'name': 'Louisiana Tech Bulldogs', 'price': 1.66}, {'name': 'Middle Tennessee Blue Raiders', 'price': 2.1}]}]}, {'key': 'twinspires', 'title': 'TwinSpires', 'last_update': '2023-05-25T14:49:28Z', 'markets': [{'key': 'h2h', 'last_update': '2023-05-25T14:49:28Z', 'outcomes': [{'name': 'Louisiana Tech Bulldogs', 'price': 1.65}, {'name': 'Middle Tennessee Blue Raiders', 'price': 2.18}]}]}, {'key': 'betrivers', 'title': 'BetRivers', 'last_update': '2023-05-25T14:49:06Z', 'markets': [{'key': 'h2h', 'last_update': '2023-05-25T14:49:06Z', 'outcomes': [{'name': 'Louisiana Tech Bulldogs', 'price': 1.65}, {'name': 'Middle Tennessee Blue Raiders', 'price': 2.18}]}]}, {'key': 'unibet_us', 'title': 'Unibet', 'last_update': '2023-05-25T14:49:14Z', 'markets': [{'key': 'h2h', 'last_update': '2023-05-25T14:49:14Z', 'outcomes': [{'name': 'Louisiana Tech Bulldogs', 'price': 1.65}, {'name': 'Middle Tennessee Blue Raiders', 'price': 2.18}]}]}, {'key': 'barstool', 'title': 'Barstool Sportsbook', 'last_update': '2023-05-25T14:49:16Z', 'markets': [{'key': 'h2h', 'last_update': '2023-05-25T14:49:16Z', 'outcomes': [{'name': 'Louisiana Tech Bulldogs', 'price': 1.65}, {'name': 'Middle Tennessee Blue Raiders', 'price': 2.18}]}]}, {'key': 'sugarhouse', 'title': 'SugarHouse', 'last_update': '2023-05-25T14:49:14Z', 'markets': [{'key': 'h2h', 'last_update': '2023-05-25T14:49:14Z', 'outcomes': [{'name': 'Louisiana Tech Bulldogs', 'price': 1.65}, {'name': 'Middle Tennessee Blue Raiders', 'price': 2.18}]}]}, {'key': 'betmgm', 'title': 'BetMGM', 'last_update': '2023-05-25T14:49:04Z', 'markets': [{'key': 'h2h', 'last_update': '2023-05-25T14:49:04Z', 'outcomes': [{'name': 'Louisiana Tech Bulldogs', 'price': 1.69}, {'name': 'Middle Tennessee Blue Raiders', 'price': 2.1}]}]}, {'key': 'fanduel', 'title': 'FanDuel', 'last_update': '2023-05-25T14:49:40Z', 'markets': [{'key': 'h2h', 'last_update': '2023-05-25T14:49:40Z', 'outcomes': [{'name': 'Louisiana Tech Bulldogs', 'price': 1.67}, {'name': 'Middle Tennessee Blue Raiders', 'price': 2.18}]}]}]}]\n"
     ]
    }
   ],
   "source": [
    "import requests\n",
    "\n",
    "url = \"https://odds.p.rapidapi.com/v4/sports/upcoming/odds\"\n",
    "\n",
    "querystring = {\"regions\":\"us\",\"oddsFormat\":\"decimal\",\"markets\":\"h2h,spreads\",\"dateFormat\":\"iso\"}\n",
    "\n",
    "headers = {\n",
    "\t\"X-RapidAPI-Key\": \"4a685f43b8msh85334c9bc182e25p1de185jsneba40326fb51\",\n",
    "\t\"X-RapidAPI-Host\": \"odds.p.rapidapi.com\"\n",
    "}\n",
    "\n",
    "response = requests.get(url, headers=headers, params=querystring)\n",
    "\n",
    "print(response.json())"
   ]
  },
  {
   "cell_type": "code",
   "execution_count": 100,
   "id": "8ff68d61",
   "metadata": {},
   "outputs": [
    {
     "data": {
      "text/plain": [
       "[{'key': 'fanduel',\n",
       "  'title': 'FanDuel',\n",
       "  'last_update': '2023-05-25T14:49:40Z',\n",
       "  'markets': [{'key': 'h2h',\n",
       "    'last_update': '2023-05-25T14:49:40Z',\n",
       "    'outcomes': [{'name': 'Appalachian St Mountaineers', 'price': 1.78},\n",
       "     {'name': 'James Madison Dukes', 'price': 1.96}]}]}]"
      ]
     },
     "execution_count": 100,
     "metadata": {},
     "output_type": "execute_result"
    }
   ],
   "source": [
    "response.json()[0]['bookmakers']"
   ]
  },
  {
   "cell_type": "code",
   "execution_count": 108,
   "id": "0d3a1f8f",
   "metadata": {},
   "outputs": [
    {
     "ename": "ValueError",
     "evalue": "If using all scalar values, you must pass an index",
     "output_type": "error",
     "traceback": [
      "\u001b[1;31m---------------------------------------------------------------------------\u001b[0m",
      "\u001b[1;31mValueError\u001b[0m                                Traceback (most recent call last)",
      "\u001b[1;32m~\\AppData\\Local\\Temp\\ipykernel_21412\\718569785.py\u001b[0m in \u001b[0;36m<module>\u001b[1;34m\u001b[0m\n\u001b[1;32m----> 1\u001b[1;33m \u001b[0mpd\u001b[0m\u001b[1;33m.\u001b[0m\u001b[0mDataFrame\u001b[0m\u001b[1;33m(\u001b[0m\u001b[0mresponse\u001b[0m\u001b[1;33m.\u001b[0m\u001b[0mjson\u001b[0m\u001b[1;33m(\u001b[0m\u001b[1;33m)\u001b[0m\u001b[1;33m)\u001b[0m\u001b[1;33m[\u001b[0m\u001b[1;33m[\u001b[0m\u001b[1;34m'id'\u001b[0m\u001b[1;33m,\u001b[0m\u001b[1;34m'sport_key'\u001b[0m\u001b[1;33m,\u001b[0m\u001b[1;34m'sport_title'\u001b[0m\u001b[1;33m,\u001b[0m\u001b[1;34m'commence_time'\u001b[0m\u001b[1;33m,\u001b[0m\u001b[1;34m'home_team'\u001b[0m\u001b[1;33m,\u001b[0m\u001b[1;34m'away_team'\u001b[0m\u001b[1;33m,\u001b[0m\u001b[1;34m'bookmakers'\u001b[0m\u001b[1;33m]\u001b[0m\u001b[1;33m]\u001b[0m\u001b[1;33m\u001b[0m\u001b[1;33m\u001b[0m\u001b[0m\n\u001b[0m",
      "\u001b[1;32m~\\anaconda3\\lib\\site-packages\\pandas\\core\\frame.py\u001b[0m in \u001b[0;36m__init__\u001b[1;34m(self, data, index, columns, dtype, copy)\u001b[0m\n\u001b[0;32m    634\u001b[0m         \u001b[1;32melif\u001b[0m \u001b[0misinstance\u001b[0m\u001b[1;33m(\u001b[0m\u001b[0mdata\u001b[0m\u001b[1;33m,\u001b[0m \u001b[0mdict\u001b[0m\u001b[1;33m)\u001b[0m\u001b[1;33m:\u001b[0m\u001b[1;33m\u001b[0m\u001b[1;33m\u001b[0m\u001b[0m\n\u001b[0;32m    635\u001b[0m             \u001b[1;31m# GH#38939 de facto copy defaults to False only in non-dict cases\u001b[0m\u001b[1;33m\u001b[0m\u001b[1;33m\u001b[0m\u001b[0m\n\u001b[1;32m--> 636\u001b[1;33m             \u001b[0mmgr\u001b[0m \u001b[1;33m=\u001b[0m \u001b[0mdict_to_mgr\u001b[0m\u001b[1;33m(\u001b[0m\u001b[0mdata\u001b[0m\u001b[1;33m,\u001b[0m \u001b[0mindex\u001b[0m\u001b[1;33m,\u001b[0m \u001b[0mcolumns\u001b[0m\u001b[1;33m,\u001b[0m \u001b[0mdtype\u001b[0m\u001b[1;33m=\u001b[0m\u001b[0mdtype\u001b[0m\u001b[1;33m,\u001b[0m \u001b[0mcopy\u001b[0m\u001b[1;33m=\u001b[0m\u001b[0mcopy\u001b[0m\u001b[1;33m,\u001b[0m \u001b[0mtyp\u001b[0m\u001b[1;33m=\u001b[0m\u001b[0mmanager\u001b[0m\u001b[1;33m)\u001b[0m\u001b[1;33m\u001b[0m\u001b[1;33m\u001b[0m\u001b[0m\n\u001b[0m\u001b[0;32m    637\u001b[0m         \u001b[1;32melif\u001b[0m \u001b[0misinstance\u001b[0m\u001b[1;33m(\u001b[0m\u001b[0mdata\u001b[0m\u001b[1;33m,\u001b[0m \u001b[0mma\u001b[0m\u001b[1;33m.\u001b[0m\u001b[0mMaskedArray\u001b[0m\u001b[1;33m)\u001b[0m\u001b[1;33m:\u001b[0m\u001b[1;33m\u001b[0m\u001b[1;33m\u001b[0m\u001b[0m\n\u001b[0;32m    638\u001b[0m             \u001b[1;32mimport\u001b[0m \u001b[0mnumpy\u001b[0m\u001b[1;33m.\u001b[0m\u001b[0mma\u001b[0m\u001b[1;33m.\u001b[0m\u001b[0mmrecords\u001b[0m \u001b[1;32mas\u001b[0m \u001b[0mmrecords\u001b[0m\u001b[1;33m\u001b[0m\u001b[1;33m\u001b[0m\u001b[0m\n",
      "\u001b[1;32m~\\anaconda3\\lib\\site-packages\\pandas\\core\\internals\\construction.py\u001b[0m in \u001b[0;36mdict_to_mgr\u001b[1;34m(data, index, columns, dtype, typ, copy)\u001b[0m\n\u001b[0;32m    500\u001b[0m         \u001b[1;31m# TODO: can we get rid of the dt64tz special case above?\u001b[0m\u001b[1;33m\u001b[0m\u001b[1;33m\u001b[0m\u001b[0m\n\u001b[0;32m    501\u001b[0m \u001b[1;33m\u001b[0m\u001b[0m\n\u001b[1;32m--> 502\u001b[1;33m     \u001b[1;32mreturn\u001b[0m \u001b[0marrays_to_mgr\u001b[0m\u001b[1;33m(\u001b[0m\u001b[0marrays\u001b[0m\u001b[1;33m,\u001b[0m \u001b[0mcolumns\u001b[0m\u001b[1;33m,\u001b[0m \u001b[0mindex\u001b[0m\u001b[1;33m,\u001b[0m \u001b[0mdtype\u001b[0m\u001b[1;33m=\u001b[0m\u001b[0mdtype\u001b[0m\u001b[1;33m,\u001b[0m \u001b[0mtyp\u001b[0m\u001b[1;33m=\u001b[0m\u001b[0mtyp\u001b[0m\u001b[1;33m,\u001b[0m \u001b[0mconsolidate\u001b[0m\u001b[1;33m=\u001b[0m\u001b[0mcopy\u001b[0m\u001b[1;33m)\u001b[0m\u001b[1;33m\u001b[0m\u001b[1;33m\u001b[0m\u001b[0m\n\u001b[0m\u001b[0;32m    503\u001b[0m \u001b[1;33m\u001b[0m\u001b[0m\n\u001b[0;32m    504\u001b[0m \u001b[1;33m\u001b[0m\u001b[0m\n",
      "\u001b[1;32m~\\anaconda3\\lib\\site-packages\\pandas\\core\\internals\\construction.py\u001b[0m in \u001b[0;36marrays_to_mgr\u001b[1;34m(arrays, columns, index, dtype, verify_integrity, typ, consolidate)\u001b[0m\n\u001b[0;32m    118\u001b[0m         \u001b[1;31m# figure out the index, if necessary\u001b[0m\u001b[1;33m\u001b[0m\u001b[1;33m\u001b[0m\u001b[0m\n\u001b[0;32m    119\u001b[0m         \u001b[1;32mif\u001b[0m \u001b[0mindex\u001b[0m \u001b[1;32mis\u001b[0m \u001b[1;32mNone\u001b[0m\u001b[1;33m:\u001b[0m\u001b[1;33m\u001b[0m\u001b[1;33m\u001b[0m\u001b[0m\n\u001b[1;32m--> 120\u001b[1;33m             \u001b[0mindex\u001b[0m \u001b[1;33m=\u001b[0m \u001b[0m_extract_index\u001b[0m\u001b[1;33m(\u001b[0m\u001b[0marrays\u001b[0m\u001b[1;33m)\u001b[0m\u001b[1;33m\u001b[0m\u001b[1;33m\u001b[0m\u001b[0m\n\u001b[0m\u001b[0;32m    121\u001b[0m         \u001b[1;32melse\u001b[0m\u001b[1;33m:\u001b[0m\u001b[1;33m\u001b[0m\u001b[1;33m\u001b[0m\u001b[0m\n\u001b[0;32m    122\u001b[0m             \u001b[0mindex\u001b[0m \u001b[1;33m=\u001b[0m \u001b[0mensure_index\u001b[0m\u001b[1;33m(\u001b[0m\u001b[0mindex\u001b[0m\u001b[1;33m)\u001b[0m\u001b[1;33m\u001b[0m\u001b[1;33m\u001b[0m\u001b[0m\n",
      "\u001b[1;32m~\\anaconda3\\lib\\site-packages\\pandas\\core\\internals\\construction.py\u001b[0m in \u001b[0;36m_extract_index\u001b[1;34m(data)\u001b[0m\n\u001b[0;32m    662\u001b[0m \u001b[1;33m\u001b[0m\u001b[0m\n\u001b[0;32m    663\u001b[0m         \u001b[1;32mif\u001b[0m \u001b[1;32mnot\u001b[0m \u001b[0mindexes\u001b[0m \u001b[1;32mand\u001b[0m \u001b[1;32mnot\u001b[0m \u001b[0mraw_lengths\u001b[0m\u001b[1;33m:\u001b[0m\u001b[1;33m\u001b[0m\u001b[1;33m\u001b[0m\u001b[0m\n\u001b[1;32m--> 664\u001b[1;33m             \u001b[1;32mraise\u001b[0m \u001b[0mValueError\u001b[0m\u001b[1;33m(\u001b[0m\u001b[1;34m\"If using all scalar values, you must pass an index\"\u001b[0m\u001b[1;33m)\u001b[0m\u001b[1;33m\u001b[0m\u001b[1;33m\u001b[0m\u001b[0m\n\u001b[0m\u001b[0;32m    665\u001b[0m \u001b[1;33m\u001b[0m\u001b[0m\n\u001b[0;32m    666\u001b[0m         \u001b[1;32melif\u001b[0m \u001b[0mhave_series\u001b[0m\u001b[1;33m:\u001b[0m\u001b[1;33m\u001b[0m\u001b[1;33m\u001b[0m\u001b[0m\n",
      "\u001b[1;31mValueError\u001b[0m: If using all scalar values, you must pass an index"
     ]
    }
   ],
   "source": [
    "pd.DataFrame(response.json()[0])[['id','sport_key','sport_title','commence_time','home_team','away_team','bookmakers']]"
   ]
  },
  {
   "cell_type": "code",
   "execution_count": 109,
   "id": "7f411009",
   "metadata": {},
   "outputs": [
    {
     "ename": "KeyError",
     "evalue": "1",
     "output_type": "error",
     "traceback": [
      "\u001b[1;31m---------------------------------------------------------------------------\u001b[0m",
      "\u001b[1;31mKeyError\u001b[0m                                  Traceback (most recent call last)",
      "\u001b[1;32m~\\AppData\\Local\\Temp\\ipykernel_21412\\1238885753.py\u001b[0m in \u001b[0;36m<module>\u001b[1;34m\u001b[0m\n\u001b[0;32m     12\u001b[0m \u001b[1;33m\u001b[0m\u001b[0m\n\u001b[0;32m     13\u001b[0m     \u001b[0mresponse\u001b[0m \u001b[1;33m=\u001b[0m \u001b[0mrequests\u001b[0m\u001b[1;33m.\u001b[0m\u001b[0mget\u001b[0m\u001b[1;33m(\u001b[0m\u001b[0murl\u001b[0m\u001b[1;33m,\u001b[0m \u001b[0mheaders\u001b[0m\u001b[1;33m=\u001b[0m\u001b[0mheaders\u001b[0m\u001b[1;33m)\u001b[0m\u001b[1;33m\u001b[0m\u001b[1;33m\u001b[0m\u001b[0m\n\u001b[1;32m---> 14\u001b[1;33m     \u001b[0mtemp_df\u001b[0m \u001b[1;33m=\u001b[0m \u001b[0mpd\u001b[0m\u001b[1;33m.\u001b[0m\u001b[0mDataFrame\u001b[0m\u001b[1;33m(\u001b[0m\u001b[0mresponse\u001b[0m\u001b[1;33m.\u001b[0m\u001b[0mjson\u001b[0m\u001b[1;33m(\u001b[0m\u001b[1;33m)\u001b[0m\u001b[1;33m[\u001b[0m\u001b[0mi\u001b[0m\u001b[1;33m]\u001b[0m\u001b[1;33m)\u001b[0m\u001b[1;33m[\u001b[0m\u001b[1;33m[\u001b[0m\u001b[1;34m'id'\u001b[0m\u001b[1;33m,\u001b[0m\u001b[1;34m'sport_key'\u001b[0m\u001b[1;33m,\u001b[0m\u001b[1;34m'sport_title'\u001b[0m\u001b[1;33m,\u001b[0m\u001b[1;34m'commence_time'\u001b[0m\u001b[1;33m,\u001b[0m\u001b[1;34m'home_team'\u001b[0m\u001b[1;33m,\u001b[0m\u001b[1;34m'away_team'\u001b[0m\u001b[1;33m]\u001b[0m\u001b[1;33m]\u001b[0m\u001b[1;33m\u001b[0m\u001b[1;33m\u001b[0m\u001b[0m\n\u001b[0m\u001b[0;32m     15\u001b[0m     \u001b[0mdf\u001b[0m\u001b[1;33m=\u001b[0m\u001b[0mdf\u001b[0m\u001b[1;33m.\u001b[0m\u001b[0mappend\u001b[0m\u001b[1;33m(\u001b[0m\u001b[0mtemp_df\u001b[0m\u001b[1;33m,\u001b[0m \u001b[0mignore_index\u001b[0m\u001b[1;33m=\u001b[0m\u001b[1;32mTrue\u001b[0m\u001b[1;33m)\u001b[0m\u001b[1;33m\u001b[0m\u001b[1;33m\u001b[0m\u001b[0m\n",
      "\u001b[1;31mKeyError\u001b[0m: 1"
     ]
    }
   ],
   "source": [
    "for i in range(1,12):\n",
    "    url = \"https://odds.p.rapidapi.com/v4/sports/upcoming/odds\"\n",
    "\n",
    "    querystring = {\"regions\":\"us\",\"oddsFormat\":\"decimal\",\"markets\":\"h2h,spreads\",\"dateFormat\":\"iso\"}\n",
    "\n",
    "    headers = {\n",
    "        \"X-RapidAPI-Key\": \"4a685f43b8msh85334c9bc182e25p1de185jsneba40326fb51\",\n",
    "        \"X-RapidAPI-Host\": \"odds.p.rapidapi.com\"\n",
    "        }\n",
    "\n",
    "    response = requests.get(url, headers=headers, params=querystring)\n",
    "\n",
    "    response = requests.get(url, headers=headers)\n",
    "    temp_df = pd.DataFrame(response.json()[i])[['id','sport_key','sport_title','commence_time','home_team','away_team']]\n",
    "    df=df.append(temp_df, ignore_index=True)"
   ]
  },
  {
   "cell_type": "code",
   "execution_count": 51,
   "id": "85878244",
   "metadata": {},
   "outputs": [
    {
     "name": "stderr",
     "output_type": "stream",
     "text": [
      "C:\\Users\\HP\\AppData\\Local\\Temp\\ipykernel_21412\\3104196393.py:11: FutureWarning: The frame.append method is deprecated and will be removed from pandas in a future version. Use pandas.concat instead.\n",
      "  df=df.append(temp_df, ignore_index=True)\n"
     ]
    }
   ],
   "source": []
  },
  {
   "cell_type": "code",
   "execution_count": 49,
   "id": "503c5a4a",
   "metadata": {},
   "outputs": [
    {
     "data": {
      "text/html": [
       "<div>\n",
       "<style scoped>\n",
       "    .dataframe tbody tr th:only-of-type {\n",
       "        vertical-align: middle;\n",
       "    }\n",
       "\n",
       "    .dataframe tbody tr th {\n",
       "        vertical-align: top;\n",
       "    }\n",
       "\n",
       "    .dataframe thead th {\n",
       "        text-align: right;\n",
       "    }\n",
       "</style>\n",
       "<table border=\"1\" class=\"dataframe\">\n",
       "  <thead>\n",
       "    <tr style=\"text-align: right;\">\n",
       "      <th></th>\n",
       "      <th>id</th>\n",
       "      <th>name</th>\n",
       "      <th>country</th>\n",
       "      <th>countryCode</th>\n",
       "      <th>region</th>\n",
       "      <th>population</th>\n",
       "    </tr>\n",
       "  </thead>\n",
       "  <tbody>\n",
       "    <tr>\n",
       "      <th>0</th>\n",
       "      <td>3515514</td>\n",
       "      <td>Al Mamzar</td>\n",
       "      <td>United Arab Emirates</td>\n",
       "      <td>AE</td>\n",
       "      <td>Emirate of Dubai</td>\n",
       "      <td>0</td>\n",
       "    </tr>\n",
       "    <tr>\n",
       "      <th>1</th>\n",
       "      <td>3386644</td>\n",
       "      <td>Ab Band District</td>\n",
       "      <td>Afghanistan</td>\n",
       "      <td>AF</td>\n",
       "      <td>Ghazni</td>\n",
       "      <td>0</td>\n",
       "    </tr>\n",
       "    <tr>\n",
       "      <th>2</th>\n",
       "      <td>3339608</td>\n",
       "      <td>Ab Kamari</td>\n",
       "      <td>Afghanistan</td>\n",
       "      <td>AF</td>\n",
       "      <td>Badghis</td>\n",
       "      <td>0</td>\n",
       "    </tr>\n",
       "    <tr>\n",
       "      <th>3</th>\n",
       "      <td>3228129</td>\n",
       "      <td>Achin</td>\n",
       "      <td>Afghanistan</td>\n",
       "      <td>AF</td>\n",
       "      <td>Nangarhar</td>\n",
       "      <td>0</td>\n",
       "    </tr>\n",
       "    <tr>\n",
       "      <th>4</th>\n",
       "      <td>3301438</td>\n",
       "      <td>Adraskan District</td>\n",
       "      <td>Afghanistan</td>\n",
       "      <td>AF</td>\n",
       "      <td>Herat Province</td>\n",
       "      <td>0</td>\n",
       "    </tr>\n",
       "    <tr>\n",
       "      <th>5</th>\n",
       "      <td>3515514</td>\n",
       "      <td>Al Mamzar</td>\n",
       "      <td>United Arab Emirates</td>\n",
       "      <td>AE</td>\n",
       "      <td>Emirate of Dubai</td>\n",
       "      <td>0</td>\n",
       "    </tr>\n",
       "    <tr>\n",
       "      <th>6</th>\n",
       "      <td>3386644</td>\n",
       "      <td>Ab Band District</td>\n",
       "      <td>Afghanistan</td>\n",
       "      <td>AF</td>\n",
       "      <td>Ghazni</td>\n",
       "      <td>0</td>\n",
       "    </tr>\n",
       "    <tr>\n",
       "      <th>7</th>\n",
       "      <td>3339608</td>\n",
       "      <td>Ab Kamari</td>\n",
       "      <td>Afghanistan</td>\n",
       "      <td>AF</td>\n",
       "      <td>Badghis</td>\n",
       "      <td>0</td>\n",
       "    </tr>\n",
       "    <tr>\n",
       "      <th>8</th>\n",
       "      <td>3228129</td>\n",
       "      <td>Achin</td>\n",
       "      <td>Afghanistan</td>\n",
       "      <td>AF</td>\n",
       "      <td>Nangarhar</td>\n",
       "      <td>0</td>\n",
       "    </tr>\n",
       "    <tr>\n",
       "      <th>9</th>\n",
       "      <td>3301438</td>\n",
       "      <td>Adraskan District</td>\n",
       "      <td>Afghanistan</td>\n",
       "      <td>AF</td>\n",
       "      <td>Herat Province</td>\n",
       "      <td>0</td>\n",
       "    </tr>\n",
       "  </tbody>\n",
       "</table>\n",
       "</div>"
      ],
      "text/plain": [
       "        id               name               country countryCode  \\\n",
       "0  3515514          Al Mamzar  United Arab Emirates          AE   \n",
       "1  3386644   Ab Band District           Afghanistan          AF   \n",
       "2  3339608          Ab Kamari           Afghanistan          AF   \n",
       "3  3228129              Achin           Afghanistan          AF   \n",
       "4  3301438  Adraskan District           Afghanistan          AF   \n",
       "5  3515514          Al Mamzar  United Arab Emirates          AE   \n",
       "6  3386644   Ab Band District           Afghanistan          AF   \n",
       "7  3339608          Ab Kamari           Afghanistan          AF   \n",
       "8  3228129              Achin           Afghanistan          AF   \n",
       "9  3301438  Adraskan District           Afghanistan          AF   \n",
       "\n",
       "             region  population  \n",
       "0  Emirate of Dubai           0  \n",
       "1            Ghazni           0  \n",
       "2           Badghis           0  \n",
       "3         Nangarhar           0  \n",
       "4    Herat Province           0  \n",
       "5  Emirate of Dubai           0  \n",
       "6            Ghazni           0  \n",
       "7           Badghis           0  \n",
       "8         Nangarhar           0  \n",
       "9    Herat Province           0  "
      ]
     },
     "execution_count": 49,
     "metadata": {},
     "output_type": "execute_result"
    }
   ],
   "source": [
    "df"
   ]
  },
  {
   "cell_type": "code",
   "execution_count": 52,
   "id": "f73c1564",
   "metadata": {},
   "outputs": [],
   "source": [
    "df.to_csv('city with 0')"
   ]
  },
  {
   "cell_type": "code",
   "execution_count": null,
   "id": "f5601743",
   "metadata": {},
   "outputs": [],
   "source": []
  }
 ],
 "metadata": {
  "kernelspec": {
   "display_name": "Python 3 (ipykernel)",
   "language": "python",
   "name": "python3"
  },
  "language_info": {
   "codemirror_mode": {
    "name": "ipython",
    "version": 3
   },
   "file_extension": ".py",
   "mimetype": "text/x-python",
   "name": "python",
   "nbconvert_exporter": "python",
   "pygments_lexer": "ipython3",
   "version": "3.9.13"
  }
 },
 "nbformat": 4,
 "nbformat_minor": 5
}
