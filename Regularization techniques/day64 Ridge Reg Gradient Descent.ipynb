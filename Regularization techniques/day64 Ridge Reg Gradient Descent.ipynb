{
 "cells": [
  {
   "cell_type": "code",
   "execution_count": 1,
   "id": "ca4495c3",
   "metadata": {},
   "outputs": [],
   "source": [
    "from sklearn.datasets import load_diabetes\n",
    "from sklearn.metrics import r2_score\n",
    "import numpy as np\n",
    "import pandas as pd\n"
   ]
  },
  {
   "cell_type": "code",
   "execution_count": 2,
   "id": "1980ea14",
   "metadata": {},
   "outputs": [],
   "source": [
    "X,y= load_diabetes(return_X_y=True)\n"
   ]
  },
  {
   "cell_type": "code",
   "execution_count": 3,
   "id": "2633ac0f",
   "metadata": {},
   "outputs": [],
   "source": [
    "from sklearn.model_selection import train_test_split\n",
    "X_train, X_test, y_train, y_test= train_test_split(X, y, test_size=0.2, random_state=4)"
   ]
  },
  {
   "cell_type": "code",
   "execution_count": 8,
   "id": "2482b685",
   "metadata": {},
   "outputs": [],
   "source": [
    "from sklearn.linear_model import SGDRegressor\n",
    "sgd = SGDRegressor(penalty='l2', max_iter=500, eta0=0.1, learning_rate='constant', alpha=0.001)"
   ]
  },
  {
   "cell_type": "code",
   "execution_count": 9,
   "id": "1e6b5835",
   "metadata": {},
   "outputs": [
    {
     "name": "stdout",
     "output_type": "stream",
     "text": [
      "R2Score  0.45115983341772703\n",
      "[  47.87304298 -163.45033198  372.88888577  274.28484908   -6.31836296\n",
      "  -59.51673467 -164.29520712  135.86497958  336.24832003   94.59721402]\n",
      "[149.01411329]\n"
     ]
    }
   ],
   "source": [
    "sgd.fit(X_train, y_train)\n",
    "y_pred= sgd.predict(X_test)\n",
    "print(\"R2Score \", r2_score(y_test, y_pred))\n",
    "print(sgd.coef_)\n",
    "print(sgd.intercept_)"
   ]
  },
  {
   "cell_type": "code",
   "execution_count": 10,
   "id": "198c5413",
   "metadata": {},
   "outputs": [],
   "source": [
    "from sklearn.linear_model import Ridge\n",
    "reg= Ridge(alpha=0.001, max_iter=500, solver='sparse_cg')"
   ]
  },
  {
   "cell_type": "code",
   "execution_count": 11,
   "id": "27d23941",
   "metadata": {},
   "outputs": [
    {
     "name": "stdout",
     "output_type": "stream",
     "text": [
      "R2Score  0.4623892201785299\n",
      "[  34.62617431 -290.42643559  483.96594581  367.96559729 -852.21640465\n",
      "  498.74459944  183.78210203  276.57704126  757.34559544   36.95860457]\n",
      "151.1041692189293\n"
     ]
    }
   ],
   "source": [
    "reg.fit(X_train, y_train)\n",
    "y_pred1= reg.predict(X_test)\n",
    "print(\"R2Score \", r2_score(y_test, y_pred1))\n",
    "print(reg.coef_)\n",
    "print(reg.intercept_)"
   ]
  },
  {
   "cell_type": "code",
   "execution_count": 26,
   "id": "20d2297b",
   "metadata": {},
   "outputs": [],
   "source": [
    "class mineRidgeGD:\n",
    "    def __init__(self, epochs, learning_rate, alpha):\n",
    "        \n",
    "        self.learning_rate=learning_rate\n",
    "        self.epochs= epochs\n",
    "        self.alpha= alpha\n",
    "        self.coef_= None\n",
    "        self.intercept_= None\n",
    "        \n",
    "    def fit(self, X_train, y_train):\n",
    "        \n",
    "        self.coef_= np.ones(X_train.shape[1])\n",
    "        self.intercept_=0\n",
    "        thetha= np.insert(self.coef_, 0, self.intercept_)\n",
    "        \n",
    "        X_train = np.insert(X_train,0,1, axis=1)\n",
    "        \n",
    "        for i in range(self.epochs):\n",
    "            thetha_der= np.dot(X_train.T, X_train).dot(thetha) - np.dot(X_train.T, y_train) + self.alpha*thetha\n",
    "            thetha= thetha - self.learning_rate*thetha_der\n",
    "            \n",
    "        self.coef_ = thetha[1:]\n",
    "        self.intercept_= thetha[0]\n",
    "        \n",
    "    def predict(self, X_test):\n",
    "        return np.dot(X_test, self.coef_)+self.intercept_\n",
    "        \n",
    "        "
   ]
  },
  {
   "cell_type": "code",
   "execution_count": 27,
   "id": "6bb5fd09",
   "metadata": {},
   "outputs": [],
   "source": [
    "rgd= mineRidgeGD(epochs=500,alpha=0.001, learning_rate=0.005)"
   ]
  },
  {
   "cell_type": "code",
   "execution_count": 28,
   "id": "1a883de9",
   "metadata": {},
   "outputs": [
    {
     "name": "stdout",
     "output_type": "stream",
     "text": [
      "R2Score  0.47379622696725354\n",
      "[  46.65040212 -221.37723801  452.11770407  325.54645024  -29.09573382\n",
      "  -96.47613436 -190.90029664  146.3286965   400.80754967   95.08979987]\n",
      "150.869724427339\n"
     ]
    }
   ],
   "source": [
    "rgd.fit(X_train, y_train)\n",
    "\n",
    "y_pred2= rgd.predict(X_test)\n",
    "\n",
    "print(\"R2Score \", r2_score(y_test, y_pred2))\n",
    "print(rgd.coef_)\n",
    "print(rgd.intercept_)"
   ]
  },
  {
   "cell_type": "code",
   "execution_count": null,
   "id": "ebc343e9",
   "metadata": {},
   "outputs": [],
   "source": []
  }
 ],
 "metadata": {
  "kernelspec": {
   "display_name": "Python 3 (ipykernel)",
   "language": "python",
   "name": "python3"
  },
  "language_info": {
   "codemirror_mode": {
    "name": "ipython",
    "version": 3
   },
   "file_extension": ".py",
   "mimetype": "text/x-python",
   "name": "python",
   "nbconvert_exporter": "python",
   "pygments_lexer": "ipython3",
   "version": "3.9.13"
  }
 },
 "nbformat": 4,
 "nbformat_minor": 5
}
